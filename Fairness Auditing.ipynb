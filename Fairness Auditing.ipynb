{
  "nbformat": 4,
  "nbformat_minor": 0,
  "metadata": {
    "colab": {
      "name": " Homework_7_Yunxin",
      "provenance": [],
      "collapsed_sections": [],
      "toc_visible": true,
      "include_colab_link": true
    },
    "kernelspec": {
      "name": "python3",
      "display_name": "Python 3"
    }
  },
  "cells": [
    {
      "cell_type": "markdown",
      "metadata": {
        "id": "view-in-github",
        "colab_type": "text"
      },
      "source": [
        "<a href=\"https://colab.research.google.com/github/karenyxwang/Machine_Learning/blob/master/Fairness%20Auditing.ipynb\" target=\"_parent\"><img src=\"https://colab.research.google.com/assets/colab-badge.svg\" alt=\"Open In Colab\"/></a>"
      ]
    },
    {
      "cell_type": "markdown",
      "metadata": {
        "id": "76xKL_j7FCRn",
        "colab_type": "text"
      },
      "source": [
        "# Homework 7\n",
        "\n",
        "*Note: due dates have been suspended. Complete your work when you are in a safe place to do so. If you have any concerns about access to devices or scheduling your work, or if you are sick and cannot complete the assignment, you can email me directly. There are no deadlines.*\n",
        "\n",
        "For this assignment we will be working with a dataset of 1,267 patient records at a Korean hospital’s emergency department. The dataset you’ll receive contains 18 variables. You will use five of them:\n",
        "\n",
        "\n",
        "Two protected attributes: \n",
        "   - `Age`\n",
        "   - `Sex`\n",
        "\n",
        "Two measures of the patient’s triage level, from 1 (highest emergency) to 5 (non-urgent).\n",
        "   - `Nurse Triage` was reported by a nurse in real time at the hospital.\n",
        "   - `Expert Triage` was evaluated by a team of two experts looking at the case history retrospectively.\n",
        "\n",
        "One final measure of the patient’s final outcome\n",
        "   - `Discharge` patients were sent home after their visit.\n",
        "   - The other options all involve more serious outcomes of some kind: `Admission` to the hospital, `Transfer` to a different facility, `Surgery` or `Death`.\n"
      ]
    },
    {
      "cell_type": "code",
      "metadata": {
        "id": "ogwUajZPwmAn",
        "colab_type": "code",
        "colab": {
          "base_uri": "https://localhost:8080/",
          "height": 332
        },
        "outputId": "c4535c7d-b154-419f-ecc7-c97e7d87c988"
      },
      "source": [
        "!wget --no-check-certificate 'https://docs.google.com/uc?export=download&id=13r36hDGjphjiKHVb6kpkAiqmmFeg6TAM' -O triage.csv"
      ],
      "execution_count": null,
      "outputs": [
        {
          "output_type": "stream",
          "text": [
            "--2020-05-09 01:20:51--  https://docs.google.com/uc?export=download&id=13r36hDGjphjiKHVb6kpkAiqmmFeg6TAM\n",
            "Resolving docs.google.com (docs.google.com)... 173.194.216.101, 173.194.216.113, 173.194.216.138, ...\n",
            "Connecting to docs.google.com (docs.google.com)|173.194.216.101|:443... connected.\n",
            "HTTP request sent, awaiting response... 302 Moved Temporarily\n",
            "Location: https://doc-14-b0-docs.googleusercontent.com/docs/securesc/ha0ro937gcuc7l7deffksulhg5h7mbp1/god8jjj1gm86e3vrjkafifpt2vkgqls8/1588987200000/09640029349513786515/*/13r36hDGjphjiKHVb6kpkAiqmmFeg6TAM?e=download [following]\n",
            "Warning: wildcards not supported in HTTP.\n",
            "--2020-05-09 01:20:51--  https://doc-14-b0-docs.googleusercontent.com/docs/securesc/ha0ro937gcuc7l7deffksulhg5h7mbp1/god8jjj1gm86e3vrjkafifpt2vkgqls8/1588987200000/09640029349513786515/*/13r36hDGjphjiKHVb6kpkAiqmmFeg6TAM?e=download\n",
            "Resolving doc-14-b0-docs.googleusercontent.com (doc-14-b0-docs.googleusercontent.com)... 172.217.204.132, 2607:f8b0:400c:c15::84\n",
            "Connecting to doc-14-b0-docs.googleusercontent.com (doc-14-b0-docs.googleusercontent.com)|172.217.204.132|:443... connected.\n",
            "HTTP request sent, awaiting response... 200 OK\n",
            "Length: 144966 (142K) [text/csv]\n",
            "Saving to: ‘triage.csv’\n",
            "\n",
            "triage.csv          100%[===================>] 141.57K  --.-KB/s    in 0.001s  \n",
            "\n",
            "2020-05-09 01:20:51 (92.3 MB/s) - ‘triage.csv’ saved [144966/144966]\n",
            "\n"
          ],
          "name": "stdout"
        }
      ]
    },
    {
      "cell_type": "code",
      "metadata": {
        "id": "iae6_FU4EzXW",
        "colab_type": "code",
        "colab": {
          "base_uri": "https://localhost:8080/",
          "height": 693
        },
        "outputId": "56fac562-cdf7-4881-96c6-1ec9f7fc0f62"
      },
      "source": [
        "import pandas as pd\n",
        "df = pd.read_csv(\"triage.csv\")\n",
        "df\n"
      ],
      "execution_count": null,
      "outputs": [
        {
          "output_type": "execute_result",
          "data": {
            "text/html": [
              "<div>\n",
              "<style scoped>\n",
              "    .dataframe tbody tr th:only-of-type {\n",
              "        vertical-align: middle;\n",
              "    }\n",
              "\n",
              "    .dataframe tbody tr th {\n",
              "        vertical-align: top;\n",
              "    }\n",
              "\n",
              "    .dataframe thead th {\n",
              "        text-align: right;\n",
              "    }\n",
              "</style>\n",
              "<table border=\"1\" class=\"dataframe\">\n",
              "  <thead>\n",
              "    <tr style=\"text-align: right;\">\n",
              "      <th></th>\n",
              "      <th>Age</th>\n",
              "      <th>Sex</th>\n",
              "      <th>Arrival mode</th>\n",
              "      <th>Complaint</th>\n",
              "      <th>Diagnosis</th>\n",
              "      <th>Injury</th>\n",
              "      <th>Alertness</th>\n",
              "      <th>Pain</th>\n",
              "      <th>Pain Scale</th>\n",
              "      <th>Systolic BP</th>\n",
              "      <th>Diastolic BP</th>\n",
              "      <th>Heart Rate</th>\n",
              "      <th>Respiratory Rate</th>\n",
              "      <th>Temperature</th>\n",
              "      <th>Oxygen Saturation</th>\n",
              "      <th>Nurse Triage</th>\n",
              "      <th>Expert Triage</th>\n",
              "      <th>Disposition</th>\n",
              "    </tr>\n",
              "  </thead>\n",
              "  <tbody>\n",
              "    <tr>\n",
              "      <th>0</th>\n",
              "      <td>71</td>\n",
              "      <td>Male</td>\n",
              "      <td>Car</td>\n",
              "      <td>right ocular pain</td>\n",
              "      <td>Corneal abrasion</td>\n",
              "      <td>Injury</td>\n",
              "      <td>Awake</td>\n",
              "      <td>Pain</td>\n",
              "      <td>2.0</td>\n",
              "      <td>160</td>\n",
              "      <td>100</td>\n",
              "      <td>84</td>\n",
              "      <td>18</td>\n",
              "      <td>36.6</td>\n",
              "      <td>100</td>\n",
              "      <td>2</td>\n",
              "      <td>4</td>\n",
              "      <td>Discharge</td>\n",
              "    </tr>\n",
              "    <tr>\n",
              "      <th>1</th>\n",
              "      <td>56</td>\n",
              "      <td>Female</td>\n",
              "      <td>Car</td>\n",
              "      <td>right forearm burn</td>\n",
              "      <td>Burn of hand, firts degree dorsum</td>\n",
              "      <td>Injury</td>\n",
              "      <td>Awake</td>\n",
              "      <td>Pain</td>\n",
              "      <td>2.0</td>\n",
              "      <td>137</td>\n",
              "      <td>75</td>\n",
              "      <td>60</td>\n",
              "      <td>20</td>\n",
              "      <td>36.5</td>\n",
              "      <td>NaN</td>\n",
              "      <td>4</td>\n",
              "      <td>5</td>\n",
              "      <td>Discharge</td>\n",
              "    </tr>\n",
              "    <tr>\n",
              "      <th>2</th>\n",
              "      <td>68</td>\n",
              "      <td>Female</td>\n",
              "      <td>Ambulance</td>\n",
              "      <td>arm pain, Lt</td>\n",
              "      <td>Fracture of surgical neck of humerus, closed</td>\n",
              "      <td>Injury</td>\n",
              "      <td>Awake</td>\n",
              "      <td>Pain</td>\n",
              "      <td>2.0</td>\n",
              "      <td>130</td>\n",
              "      <td>80</td>\n",
              "      <td>102</td>\n",
              "      <td>20</td>\n",
              "      <td>36.6</td>\n",
              "      <td>98</td>\n",
              "      <td>4</td>\n",
              "      <td>5</td>\n",
              "      <td>Admission</td>\n",
              "    </tr>\n",
              "    <tr>\n",
              "      <th>3</th>\n",
              "      <td>71</td>\n",
              "      <td>Male</td>\n",
              "      <td>Walking</td>\n",
              "      <td>ascites tapping</td>\n",
              "      <td>Alcoholic liver cirrhosis with ascites</td>\n",
              "      <td>Non-Injury</td>\n",
              "      <td>Awake</td>\n",
              "      <td>Pain</td>\n",
              "      <td>3.0</td>\n",
              "      <td>139</td>\n",
              "      <td>94</td>\n",
              "      <td>88</td>\n",
              "      <td>20</td>\n",
              "      <td>36.5</td>\n",
              "      <td>NaN</td>\n",
              "      <td>4</td>\n",
              "      <td>5</td>\n",
              "      <td>Discharge</td>\n",
              "    </tr>\n",
              "    <tr>\n",
              "      <th>4</th>\n",
              "      <td>58</td>\n",
              "      <td>Male</td>\n",
              "      <td>Car</td>\n",
              "      <td>distension, abd</td>\n",
              "      <td>Ascites</td>\n",
              "      <td>Non-Injury</td>\n",
              "      <td>Awake</td>\n",
              "      <td>Pain</td>\n",
              "      <td>3.0</td>\n",
              "      <td>91</td>\n",
              "      <td>67</td>\n",
              "      <td>93</td>\n",
              "      <td>18</td>\n",
              "      <td>36.5</td>\n",
              "      <td>NaN</td>\n",
              "      <td>4</td>\n",
              "      <td>5</td>\n",
              "      <td>Discharge</td>\n",
              "    </tr>\n",
              "    <tr>\n",
              "      <th>...</th>\n",
              "      <td>...</td>\n",
              "      <td>...</td>\n",
              "      <td>...</td>\n",
              "      <td>...</td>\n",
              "      <td>...</td>\n",
              "      <td>...</td>\n",
              "      <td>...</td>\n",
              "      <td>...</td>\n",
              "      <td>...</td>\n",
              "      <td>...</td>\n",
              "      <td>...</td>\n",
              "      <td>...</td>\n",
              "      <td>...</td>\n",
              "      <td>...</td>\n",
              "      <td>...</td>\n",
              "      <td>...</td>\n",
              "      <td>...</td>\n",
              "      <td>...</td>\n",
              "    </tr>\n",
              "    <tr>\n",
              "      <th>1262</th>\n",
              "      <td>79</td>\n",
              "      <td>Male</td>\n",
              "      <td>Ambulance</td>\n",
              "      <td>mental change</td>\n",
              "      <td>Cerebral infarction due to unspecified occlusi...</td>\n",
              "      <td>Non-Injury</td>\n",
              "      <td>Awake</td>\n",
              "      <td>No Pain</td>\n",
              "      <td>NaN</td>\n",
              "      <td>120</td>\n",
              "      <td>80</td>\n",
              "      <td>86</td>\n",
              "      <td>22</td>\n",
              "      <td>36.4</td>\n",
              "      <td>95</td>\n",
              "      <td>2</td>\n",
              "      <td>2</td>\n",
              "      <td>Admission</td>\n",
              "    </tr>\n",
              "    <tr>\n",
              "      <th>1263</th>\n",
              "      <td>81</td>\n",
              "      <td>Male</td>\n",
              "      <td>Car</td>\n",
              "      <td>dysuria</td>\n",
              "      <td>Dysuria</td>\n",
              "      <td>Non-Injury</td>\n",
              "      <td>Awake</td>\n",
              "      <td>No Pain</td>\n",
              "      <td>NaN</td>\n",
              "      <td>120</td>\n",
              "      <td>80</td>\n",
              "      <td>94</td>\n",
              "      <td>20</td>\n",
              "      <td>36.4</td>\n",
              "      <td>97</td>\n",
              "      <td>4</td>\n",
              "      <td>4</td>\n",
              "      <td>Discharge</td>\n",
              "    </tr>\n",
              "    <tr>\n",
              "      <th>1264</th>\n",
              "      <td>81</td>\n",
              "      <td>Male</td>\n",
              "      <td>Ambulance</td>\n",
              "      <td>dizziness</td>\n",
              "      <td>Dizziness and giddiness</td>\n",
              "      <td>Non-Injury</td>\n",
              "      <td>Awake</td>\n",
              "      <td>No Pain</td>\n",
              "      <td>NaN</td>\n",
              "      <td>130</td>\n",
              "      <td>90</td>\n",
              "      <td>80</td>\n",
              "      <td>20</td>\n",
              "      <td>36.2</td>\n",
              "      <td>99</td>\n",
              "      <td>3</td>\n",
              "      <td>3</td>\n",
              "      <td>Discharge</td>\n",
              "    </tr>\n",
              "    <tr>\n",
              "      <th>1265</th>\n",
              "      <td>81</td>\n",
              "      <td>Female</td>\n",
              "      <td>Ambulance</td>\n",
              "      <td>Sensory, Decreased</td>\n",
              "      <td>Cord compression, unspecified</td>\n",
              "      <td>Injury</td>\n",
              "      <td>Awake</td>\n",
              "      <td>No Pain</td>\n",
              "      <td>NaN</td>\n",
              "      <td>170</td>\n",
              "      <td>100</td>\n",
              "      <td>78</td>\n",
              "      <td>20</td>\n",
              "      <td>36.6</td>\n",
              "      <td>98</td>\n",
              "      <td>3</td>\n",
              "      <td>3</td>\n",
              "      <td>Surgery</td>\n",
              "    </tr>\n",
              "    <tr>\n",
              "      <th>1266</th>\n",
              "      <td>87</td>\n",
              "      <td>Male</td>\n",
              "      <td>Ambulance</td>\n",
              "      <td>orthopnea</td>\n",
              "      <td>Dyspnoea</td>\n",
              "      <td>Non-Injury</td>\n",
              "      <td>Awake</td>\n",
              "      <td>No Pain</td>\n",
              "      <td>NaN</td>\n",
              "      <td>150</td>\n",
              "      <td>80</td>\n",
              "      <td>62</td>\n",
              "      <td>20</td>\n",
              "      <td>36.2</td>\n",
              "      <td>98</td>\n",
              "      <td>3</td>\n",
              "      <td>3</td>\n",
              "      <td>Admission</td>\n",
              "    </tr>\n",
              "  </tbody>\n",
              "</table>\n",
              "<p>1267 rows × 18 columns</p>\n",
              "</div>"
            ],
            "text/plain": [
              "      Age     Sex Arrival mode  ... Nurse Triage Expert Triage Disposition\n",
              "0      71    Male          Car  ...            2             4   Discharge\n",
              "1      56  Female          Car  ...            4             5   Discharge\n",
              "2      68  Female    Ambulance  ...            4             5   Admission\n",
              "3      71    Male      Walking  ...            4             5   Discharge\n",
              "4      58    Male          Car  ...            4             5   Discharge\n",
              "...   ...     ...          ...  ...          ...           ...         ...\n",
              "1262   79    Male    Ambulance  ...            2             2   Admission\n",
              "1263   81    Male          Car  ...            4             4   Discharge\n",
              "1264   81    Male    Ambulance  ...            3             3   Discharge\n",
              "1265   81  Female    Ambulance  ...            3             3     Surgery\n",
              "1266   87    Male    Ambulance  ...            3             3   Admission\n",
              "\n",
              "[1267 rows x 18 columns]"
            ]
          },
          "metadata": {
            "tags": []
          },
          "execution_count": 2
        }
      ]
    },
    {
      "cell_type": "markdown",
      "metadata": {
        "id": "po-_sBNhFqPw",
        "colab_type": "text"
      },
      "source": [
        "## Task 1 *(4 points)*\n",
        "\n",
        "Define four new binary variables `Nurse High-Risk`, `Expert High-Risk`, `Age Group`, and `Discharged`\n",
        "   - A patient is defined as `High-Risk` if their triage score is 1-3.\n",
        "   - `Age Group` should be a binary variable. Choose the cutoff threshold based on your inspection of the data.\n",
        "   - `Discharged` should have a value of True if the patient was immediately discharged, and False otherwise.\n"
      ]
    },
    {
      "cell_type": "code",
      "metadata": {
        "id": "m5Yezy2iJ8tr",
        "colab_type": "code",
        "colab": {
          "base_uri": "https://localhost:8080/",
          "height": 294
        },
        "outputId": "c43e62dc-db6a-4bee-c18b-0e6d7c3a0026"
      },
      "source": [
        "df.describe()"
      ],
      "execution_count": null,
      "outputs": [
        {
          "output_type": "execute_result",
          "data": {
            "text/html": [
              "<div>\n",
              "<style scoped>\n",
              "    .dataframe tbody tr th:only-of-type {\n",
              "        vertical-align: middle;\n",
              "    }\n",
              "\n",
              "    .dataframe tbody tr th {\n",
              "        vertical-align: top;\n",
              "    }\n",
              "\n",
              "    .dataframe thead th {\n",
              "        text-align: right;\n",
              "    }\n",
              "</style>\n",
              "<table border=\"1\" class=\"dataframe\">\n",
              "  <thead>\n",
              "    <tr style=\"text-align: right;\">\n",
              "      <th></th>\n",
              "      <th>Age</th>\n",
              "      <th>Pain Scale</th>\n",
              "      <th>Nurse Triage</th>\n",
              "      <th>Expert Triage</th>\n",
              "    </tr>\n",
              "  </thead>\n",
              "  <tbody>\n",
              "    <tr>\n",
              "      <th>count</th>\n",
              "      <td>1267.000000</td>\n",
              "      <td>711.000000</td>\n",
              "      <td>1267.000000</td>\n",
              "      <td>1267.000000</td>\n",
              "    </tr>\n",
              "    <tr>\n",
              "      <th>mean</th>\n",
              "      <td>54.423836</td>\n",
              "      <td>4.104079</td>\n",
              "      <td>3.335438</td>\n",
              "      <td>3.265983</td>\n",
              "    </tr>\n",
              "    <tr>\n",
              "      <th>std</th>\n",
              "      <td>19.725033</td>\n",
              "      <td>1.419332</td>\n",
              "      <td>0.885391</td>\n",
              "      <td>0.885803</td>\n",
              "    </tr>\n",
              "    <tr>\n",
              "      <th>min</th>\n",
              "      <td>16.000000</td>\n",
              "      <td>1.000000</td>\n",
              "      <td>1.000000</td>\n",
              "      <td>1.000000</td>\n",
              "    </tr>\n",
              "    <tr>\n",
              "      <th>25%</th>\n",
              "      <td>37.000000</td>\n",
              "      <td>3.000000</td>\n",
              "      <td>3.000000</td>\n",
              "      <td>3.000000</td>\n",
              "    </tr>\n",
              "    <tr>\n",
              "      <th>50%</th>\n",
              "      <td>57.000000</td>\n",
              "      <td>4.000000</td>\n",
              "      <td>3.000000</td>\n",
              "      <td>3.000000</td>\n",
              "    </tr>\n",
              "    <tr>\n",
              "      <th>75%</th>\n",
              "      <td>71.000000</td>\n",
              "      <td>5.000000</td>\n",
              "      <td>4.000000</td>\n",
              "      <td>4.000000</td>\n",
              "    </tr>\n",
              "    <tr>\n",
              "      <th>max</th>\n",
              "      <td>96.000000</td>\n",
              "      <td>10.000000</td>\n",
              "      <td>5.000000</td>\n",
              "      <td>5.000000</td>\n",
              "    </tr>\n",
              "  </tbody>\n",
              "</table>\n",
              "</div>"
            ],
            "text/plain": [
              "               Age  Pain Scale  Nurse Triage  Expert Triage\n",
              "count  1267.000000  711.000000   1267.000000    1267.000000\n",
              "mean     54.423836    4.104079      3.335438       3.265983\n",
              "std      19.725033    1.419332      0.885391       0.885803\n",
              "min      16.000000    1.000000      1.000000       1.000000\n",
              "25%      37.000000    3.000000      3.000000       3.000000\n",
              "50%      57.000000    4.000000      3.000000       3.000000\n",
              "75%      71.000000    5.000000      4.000000       4.000000\n",
              "max      96.000000   10.000000      5.000000       5.000000"
            ]
          },
          "metadata": {
            "tags": []
          },
          "execution_count": 3
        }
      ]
    },
    {
      "cell_type": "code",
      "metadata": {
        "id": "mlNHCUjyF6-Q",
        "colab_type": "code",
        "colab": {}
      },
      "source": [
        "df['Nurse High-Risk'] = df['Nurse Triage'].apply(lambda x: 0 if x>3 else 1)\n",
        "df['Expert High-Risk'] = df['Expert Triage'].apply(lambda x: 0 if x>3 else 1)\n",
        "df['Age Group'] = df['Age'].apply(lambda x: 1 if x>54 else 0)\n",
        "df['Discharged'] = df['Disposition'].apply(lambda x: True if x=='Discharge' else False)"
      ],
      "execution_count": null,
      "outputs": []
    },
    {
      "cell_type": "markdown",
      "metadata": {
        "id": "2FeAJp1HF6eR",
        "colab_type": "text"
      },
      "source": [
        "## Task 2 *(4 points)*\n",
        "\n",
        "Using nurse triage scores, calculate baseline distributions of triage scores in this dataset. Also calculate baseline distributions of discharge rates. Then, calculate those distributions divided by age group and sex. \n",
        "\n",
        "Do triage scores and discharge rates differ in the population based on age and sex?\n"
      ]
    },
    {
      "cell_type": "markdown",
      "metadata": {
        "id": "5V7qbbPfSYXG",
        "colab_type": "text"
      },
      "source": [
        "### Nurse triage scores distributions\n",
        "\n",
        "The baseline distributions of nurse triage scores show that the majority of the population (75%) fall into emergency categories 3 and 4. There are the least number of people being diagnosed as \"highest emergency\" (1.4%) and the second least number of people as \"non-urgent\" (6.9%)."
      ]
    },
    {
      "cell_type": "code",
      "metadata": {
        "id": "KiF5Z75gGLpw",
        "colab_type": "code",
        "colab": {
          "base_uri": "https://localhost:8080/",
          "height": 417
        },
        "outputId": "7bec0b97-006e-4691-c681-32f1914bf257"
      },
      "source": [
        "import numpy as np\n",
        "import matplotlib.pyplot as plt\n",
        "\n",
        "print(\"Distribution of nurse triage scores\")\n",
        "print(df['Nurse Triage'].value_counts()/len(df))\n",
        "print()\n",
        "\n",
        "plt.hist(df['Nurse Triage'], bins=5)\n",
        "plt.xticks(np.arange(1, 6, 1))\n",
        "plt.xlabel(\"Nurse triage scores\")\n",
        "plt.ylabel(\"Count in Training Data\")\n",
        "plt.show()"
      ],
      "execution_count": null,
      "outputs": [
        {
          "output_type": "stream",
          "text": [
            "Distribution of nurse triage scores\n",
            "4    0.395422\n",
            "3    0.352802\n",
            "2    0.168903\n",
            "5    0.068666\n",
            "1    0.014207\n",
            "Name: Nurse Triage, dtype: float64\n",
            "\n"
          ],
          "name": "stdout"
        },
        {
          "output_type": "display_data",
          "data": {
            "image/png": "[encoded data removed]",
            "text/plain": [
              "<Figure size 432x288 with 1 Axes>"
            ]
          },
          "metadata": {
            "tags": [],
            "needs_background": "light"
          }
        }
      ]
    },
    {
      "cell_type": "markdown",
      "metadata": {
        "id": "VK_14MjKUCgB",
        "colab_type": "text"
      },
      "source": [
        "The distribution of nurse triage scores based on age shows that the older age group is far more likely than the younger age group to be diagnosed as 1 \"highest emergency\", 2 \"second-highest emergency\", and 5 \"non-urgent\". Almost all people diagnosed as highest emergency are from the older age group. The older age group and the younger age group are about equally likely to have traige scores of 3 and 4."
      ]
    },
    {
      "cell_type": "code",
      "metadata": {
        "id": "v__U6guQboMa",
        "colab_type": "code",
        "colab": {
          "base_uri": "https://localhost:8080/",
          "height": 278
        },
        "outputId": "874dc789-8926-4ddf-e56a-5248cb2c203a"
      },
      "source": [
        "older_age_group = df.loc[df['Age Group']==1]\n",
        "younger_age_group = df.loc[df['Age Group']==0]\n",
        "\n",
        "plt.bar(older_age_group['Nurse Triage'].value_counts().index, older_age_group['Nurse Triage'].value_counts())\n",
        "plt.bar(younger_age_group['Nurse Triage'].value_counts().index, younger_age_group['Nurse Triage'].value_counts(), bottom = older_age_group['Nurse Triage'].value_counts())\n",
        "plt.legend([\"Older_age_group\", \"Younger_age_group\"])\n",
        "plt.xlabel(\"Nurse triage scores\")\n",
        "plt.ylabel(\"Count in Training Data\")\n",
        "plt.show()"
      ],
      "execution_count": null,
      "outputs": [
        {
          "output_type": "display_data",
          "data": {
            "image/png": "[encoded data removed]",
            "text/plain": [
              "<Figure size 432x288 with 1 Axes>"
            ]
          },
          "metadata": {
            "tags": [],
            "needs_background": "light"
          }
        }
      ]
    },
    {
      "cell_type": "markdown",
      "metadata": {
        "id": "wJPFwc-TVANa",
        "colab_type": "text"
      },
      "source": [
        "The distribution of nurse triage scores based on sex shows that male is far more likely than female to be diagnosed as 1 \"highest emergency\". Almost all people diagnosed as highest emergency are male. Female, on the other hand, is slightly more likely to be diagnosed as 2 \"Second highest emergency\" and 5 \"non-urgent\". Male and Female are  equally likely to have traige scores of 3 and 4."
      ]
    },
    {
      "cell_type": "code",
      "metadata": {
        "id": "rs50QEJyhcWJ",
        "colab_type": "code",
        "colab": {
          "base_uri": "https://localhost:8080/",
          "height": 278
        },
        "outputId": "f13c28d7-3f02-421c-e973-d96e0b381455"
      },
      "source": [
        "female = df.loc[df['Sex']=='Female']\n",
        "male = df.loc[df['Sex']=='Male']\n",
        "\n",
        "plt.bar(female['Nurse Triage'].value_counts().index, female['Nurse Triage'].value_counts())\n",
        "plt.bar(male['Nurse Triage'].value_counts().index, male['Nurse Triage'].value_counts(), bottom = female['Nurse Triage'].value_counts())\n",
        "plt.legend([\"female\", \"male\"])\n",
        "plt.xlabel(\"Nurse triage scores\")\n",
        "plt.ylabel(\"Count in Training Data\")\n",
        "plt.show()"
      ],
      "execution_count": null,
      "outputs": [
        {
          "output_type": "display_data",
          "data": {
            "image/png": "[encoded data removed]",
            "text/plain": [
              "<Figure size 432x288 with 1 Axes>"
            ]
          },
          "metadata": {
            "tags": [],
            "needs_background": "light"
          }
        }
      ]
    },
    {
      "cell_type": "markdown",
      "metadata": {
        "id": "Cvd3hbEkSpbr",
        "colab_type": "text"
      },
      "source": [
        "### Discharge Rates Distribution\n",
        "\n",
        "The baseline distributions of discharge rates show that the majority of the population (65%) are discharged."
      ]
    },
    {
      "cell_type": "code",
      "metadata": {
        "id": "1i-OBLOAT_pH",
        "colab_type": "code",
        "colab": {
          "base_uri": "https://localhost:8080/",
          "height": 352
        },
        "outputId": "6d789fdb-cf7b-4ced-8aaf-099435cb7dea"
      },
      "source": [
        "print(\"Distribution of discharge rates\")\n",
        "print(df['Discharged'].value_counts()/len(df))\n",
        "print()\n",
        "\n",
        "discharge_status = df['Discharged'].groupby(df['Discharged']).count()\n",
        "plt.bar(discharge_status.index, discharge_status)\n",
        "plt.xticks(np.arange(0,2,1))\n",
        "plt.xticks([0,1], [\"False\", \"True\"])\n",
        "plt.show()"
      ],
      "execution_count": null,
      "outputs": [
        {
          "output_type": "stream",
          "text": [
            "Distribution of discharge rates\n",
            "True     0.649566\n",
            "False    0.350434\n",
            "Name: Discharged, dtype: float64\n",
            "\n"
          ],
          "name": "stdout"
        },
        {
          "output_type": "display_data",
          "data": {
            "image/png": "[encoded data removed]",
            "text/plain": [
              "<Figure size 432x288 with 1 Axes>"
            ]
          },
          "metadata": {
            "tags": [],
            "needs_background": "light"
          }
        }
      ]
    },
    {
      "cell_type": "markdown",
      "metadata": {
        "id": "6hfYOymJX8ly",
        "colab_type": "text"
      },
      "source": [
        "The distribution of discharge rates based on age groups shows that although there are equal number of old and young people being discharged, the older age group is more likely than the younger age group to not be discharged."
      ]
    },
    {
      "cell_type": "code",
      "metadata": {
        "id": "DgEWeVVekVXf",
        "colab_type": "code",
        "colab": {
          "base_uri": "https://localhost:8080/",
          "height": 278
        },
        "outputId": "dd293002-8bb2-4e64-dd0f-2d3bd23f9253"
      },
      "source": [
        "plt.bar(older_age_group['Discharged'].value_counts().index, older_age_group['Discharged'].value_counts())\n",
        "plt.bar(younger_age_group['Discharged'].value_counts().index, younger_age_group['Discharged'].value_counts(), bottom = older_age_group['Discharged'].value_counts())\n",
        "plt.legend([\"Older_age_group\", \"Younger_age_group\"])\n",
        "plt.xlabel(\"Discharged status\")\n",
        "plt.ylabel(\"Count in Training Data\")\n",
        "plt.xticks(np.arange(0, 2, 1))\n",
        "plt.xticks([0,1], [\"False\", \"True\"])\n",
        "plt.show()"
      ],
      "execution_count": null,
      "outputs": [
        {
          "output_type": "display_data",
          "data": {
            "image/png": "[encoded data removed]",
            "text/plain": [
              "<Figure size 432x288 with 1 Axes>"
            ]
          },
          "metadata": {
            "tags": [],
            "needs_background": "light"
          }
        }
      ]
    },
    {
      "cell_type": "markdown",
      "metadata": {
        "id": "pjoP1Hk_Yioy",
        "colab_type": "text"
      },
      "source": [
        "The distribution of discharge rates based on sex shows that there is not much difference between male and female regarding discharge status."
      ]
    },
    {
      "cell_type": "code",
      "metadata": {
        "id": "qmmCTJCzlD-5",
        "colab_type": "code",
        "colab": {
          "base_uri": "https://localhost:8080/",
          "height": 278
        },
        "outputId": "f1acda48-942c-423d-a787-4e69fc21d5ac"
      },
      "source": [
        "female = df.loc[df['Sex']=='Female']\n",
        "male = df.loc[df['Sex']=='Male']\n",
        "\n",
        "plt.bar(female['Discharged'].value_counts().index, female['Discharged'].value_counts())\n",
        "plt.bar(male['Discharged'].value_counts().index, male['Discharged'].value_counts(), bottom = female['Discharged'].value_counts())\n",
        "plt.legend([\"female\", \"male\"])\n",
        "plt.xlabel(\"Discharged status\")\n",
        "plt.ylabel(\"Count in Training Data\")\n",
        "plt.xticks(np.arange(0, 2, 1))\n",
        "plt.xticks([0,1], [\"False\", \"True\"])\n",
        "plt.show()"
      ],
      "execution_count": null,
      "outputs": [
        {
          "output_type": "display_data",
          "data": {
            "image/png": "[encoded data removed]",
            "text/plain": [
              "<Figure size 432x288 with 1 Axes>"
            ]
          },
          "metadata": {
            "tags": [],
            "needs_background": "light"
          }
        }
      ]
    },
    {
      "cell_type": "markdown",
      "metadata": {
        "id": "hDKW_Ob6GL3x",
        "colab_type": "text"
      },
      "source": [
        "## Task 3 *(8 points)*\n",
        "\n",
        "Let's define a “predicted positive” case as any patient with a high-risk triage rating, and a “true positive” case as any patient that was **NOT** immediately discharged. \n",
        "\n",
        "Using nurse triage scores: \n",
        "   - Calculate the false positive rate and false negative rate for the population as a whole\n",
        "   - Then calculate FPR and FNR for subgroups divided by age group and sex. \n",
        "\n",
        "How do false positive and false negative rates differ for subgroups? Are there any group fairness concerns that you see? It is okay if you do or do not see any concerns; either way, you should give specific quantitative evidence for your answer.\n",
        "\n"
      ]
    },
    {
      "cell_type": "markdown",
      "metadata": {
        "id": "TlJjm86sZuug",
        "colab_type": "text"
      },
      "source": [
        "For the population as a whole, the false positive rate is 50.07% while the false negative rate is 17.86%.\n",
        "\n",
        "In terms of age subgroups, the false positive rates for the younger age group is much higher than the older age group by about 20%, which means that nurses are more likely to predict young people have high-risk conditions while they actually don't have. However, the false negative rate for the older age group is higher than the younger group by about 10%. This is problematic because it shows older people have a higher chance to be misdiagnosed to be not high-risk while they are actually severely ill, which may cause delay to treatment. \n",
        "\n",
        "In terms of sex subgroups, the false positive rate for female is slightly higher than male by slightly less than 10%, meaning that female patients have a higher chance to be misdiagnosed as high-risk while they are actually fine. The false negative rate for female is also higher than male by less than 10%, which means that female patients also have a higher change to be misdiagonsed to be not high-risk while they are actually in high-risk condition. All in all, it shows that nurses are worse at diagnosing female patients than male patients. "
      ]
    },
    {
      "cell_type": "code",
      "metadata": {
        "id": "4q4yH9M3GmNi",
        "colab_type": "code",
        "colab": {
          "base_uri": "https://localhost:8080/",
          "height": 34
        },
        "outputId": "7ca91588-6f6d-4d89-8aef-d15b4456919c"
      },
      "source": [
        "false_positive = df.loc[(df['Nurse High-Risk']==1) & (df['Discharged']==True)]\n",
        "false_positive_rate = len(false_positive) / len(df.loc[df['Nurse High-Risk']==1])\n",
        "print(f\"The false positive rate for the whole population is {false_positive_rate}\")"
      ],
      "execution_count": null,
      "outputs": [
        {
          "output_type": "stream",
          "text": [
            "The false positive rate for the whole population is 0.5007363770250368\n"
          ],
          "name": "stdout"
        }
      ]
    },
    {
      "cell_type": "code",
      "metadata": {
        "id": "HMTosSvbtkRV",
        "colab_type": "code",
        "colab": {
          "base_uri": "https://localhost:8080/",
          "height": 34
        },
        "outputId": "983fd26a-faa3-48d8-eff0-2bcd44ffb563"
      },
      "source": [
        "false_negative = df.loc[(df['Nurse High-Risk']==0) & (df['Discharged']==False)]\n",
        "false_negative_rate = len(false_negative) / len(df.loc[df['Nurse High-Risk']==0])\n",
        "print(f\"The false negative rate for the whole population is {false_negative_rate}\")"
      ],
      "execution_count": null,
      "outputs": [
        {
          "output_type": "stream",
          "text": [
            "The false negative rate for the whole population is 0.17857142857142858\n"
          ],
          "name": "stdout"
        }
      ]
    },
    {
      "cell_type": "code",
      "metadata": {
        "id": "4GGKvKPbuDzE",
        "colab_type": "code",
        "colab": {
          "base_uri": "https://localhost:8080/",
          "height": 278
        },
        "outputId": "e280d121-b0a7-4690-f8b0-bd6d2c512b4d"
      },
      "source": [
        "# Error balance of false positives\n",
        "age_probs = []\n",
        "for age in [older_age_group, younger_age_group]:\n",
        "  probs = []\n",
        "  false_positive = age.loc[(age['Nurse High-Risk']==1) & (age['Discharged']==True)]\n",
        "  false_positive_rate = len(false_positive) / len(age.loc[age['Nurse High-Risk']==1])\n",
        "  probs.append(false_positive_rate)\n",
        "  age_probs.append(probs)\n",
        "\n",
        "fig = plt.gcf()\n",
        "plt.bar(range(1,2), age_probs[0], align='edge', width=-.1)\n",
        "plt.bar(range(1,2), age_probs[1], align='edge', width=.1)\n",
        "plt.xlabel(\"Age Groups\")\n",
        "plt.xticks(ticks=range(1,2))\n",
        "plt.xticks([0], [\"Age groups\"])\n",
        "plt.ylabel(\"False Positive Rate\")\n",
        "plt.legend([\"older_age_group\", \"younger_age_group\"])\n",
        "plt.title(\"Comparative False Positive Rates\")\n",
        "plt.show()"
      ],
      "execution_count": null,
      "outputs": [
        {
          "output_type": "display_data",
          "data": {
            "image/png": "[encoded data removed]",
            "text/plain": [
              "<Figure size 432x288 with 1 Axes>"
            ]
          },
          "metadata": {
            "tags": [],
            "needs_background": "light"
          }
        }
      ]
    },
    {
      "cell_type": "code",
      "metadata": {
        "id": "yWu6nv9b6Dke",
        "colab_type": "code",
        "colab": {
          "base_uri": "https://localhost:8080/",
          "height": 278
        },
        "outputId": "6c81e1fb-f404-42fb-a572-3b922b8c2785"
      },
      "source": [
        "# Error balance of false positives\n",
        "sex_probs = []\n",
        "for sex in [female, male]:\n",
        "  probs = []\n",
        "  false_positive = sex.loc[(sex['Nurse High-Risk']==1) & (sex['Discharged']==True)]\n",
        "  false_positive_rate = len(false_positive) / len(sex.loc[sex['Nurse High-Risk']==1])\n",
        "  probs.append(false_positive_rate)\n",
        "  sex_probs.append(probs)\n",
        "\n",
        "fig = plt.gcf()\n",
        "plt.bar(range(1,2), sex_probs[0], align='edge', width=-.1)\n",
        "plt.bar(range(1,2), sex_probs[1], align='edge', width=.1)\n",
        "plt.xlabel(\"Sex\")\n",
        "plt.xticks(ticks=range(1,2))\n",
        "plt.xticks([0], [\"Sex\"])\n",
        "plt.ylabel(\"False Positive Rate\")\n",
        "plt.legend([\"female\", \"male\"])\n",
        "plt.title(\"Comparative False Positive Rates\")\n",
        "plt.show()"
      ],
      "execution_count": null,
      "outputs": [
        {
          "output_type": "display_data",
          "data": {
            "image/png": "[encoded data removed]",
            "text/plain": [
              "<Figure size 432x288 with 1 Axes>"
            ]
          },
          "metadata": {
            "tags": [],
            "needs_background": "light"
          }
        }
      ]
    },
    {
      "cell_type": "code",
      "metadata": {
        "id": "LsP2GWeG6cej",
        "colab_type": "code",
        "colab": {
          "base_uri": "https://localhost:8080/",
          "height": 278
        },
        "outputId": "23d1200e-4367-4cd3-f45c-22efabcbd770"
      },
      "source": [
        "# Error balance of false negatives\n",
        "age_probs = []\n",
        "for age in [older_age_group, younger_age_group]:\n",
        "  probs = []\n",
        "  false_negative = age.loc[(age['Nurse High-Risk']==0) & (age['Discharged']==False)]\n",
        "  false_negative_rate = len(false_negative) / len(age.loc[age['Nurse High-Risk']==0]) \n",
        "  probs.append(false_negative_rate)\n",
        "  age_probs.append(probs)\n",
        "\n",
        "fig = plt.gcf()\n",
        "plt.bar(range(1,2), age_probs[0], align='edge', width=-.1)\n",
        "plt.bar(range(1,2), age_probs[1], align='edge', width=.1)\n",
        "plt.xlabel(\"Age Groups\")\n",
        "plt.xticks(ticks=range(1,2))\n",
        "plt.xticks([0], [\"Age groups\"])\n",
        "plt.ylabel(\"False Negative Rate\")\n",
        "plt.legend([\"older_age_group\", \"younger_age_group\"])\n",
        "plt.title(\"Comparative False Negative Rates\")\n",
        "plt.show()"
      ],
      "execution_count": null,
      "outputs": [
        {
          "output_type": "display_data",
          "data": {
            "image/png": "[encoded data removed]",
            "text/plain": [
              "<Figure size 432x288 with 1 Axes>"
            ]
          },
          "metadata": {
            "tags": [],
            "needs_background": "light"
          }
        }
      ]
    },
    {
      "cell_type": "code",
      "metadata": {
        "id": "ozsGQJrP6aIW",
        "colab_type": "code",
        "colab": {
          "base_uri": "https://localhost:8080/",
          "height": 278
        },
        "outputId": "b7d5cd32-e9ed-4829-88dc-035910b34794"
      },
      "source": [
        "# Error balance of false negatives\n",
        "sex_probs = []\n",
        "for sex in [female, male]:\n",
        "  probs = []\n",
        "  false_negative = sex.loc[(sex['Nurse High-Risk']==0) & (sex['Discharged']==False)]\n",
        "  false_negative_rate = len(false_negative) / len(sex.loc[sex['Nurse High-Risk']==0]) \n",
        "  probs.append(false_negative_rate)\n",
        "  sex_probs.append(probs)\n",
        "\n",
        "fig = plt.gcf()\n",
        "plt.bar(range(1,2), sex_probs[0], align='edge', width=-.1)\n",
        "plt.bar(range(1,2), sex_probs[1], align='edge', width=.1)\n",
        "plt.xlabel(\"Sex\")\n",
        "plt.xticks(ticks=range(1,2))\n",
        "plt.xticks([0], [\"Sex\"])\n",
        "plt.ylabel(\"False Negative Rate\")\n",
        "plt.legend([\"female\", \"male\"])\n",
        "plt.title(\"Comparative False Negative Rates\")\n",
        "plt.show()"
      ],
      "execution_count": null,
      "outputs": [
        {
          "output_type": "display_data",
          "data": {
            "image/png": "[encoded data removed]",
            "text/plain": [
              "<Figure size 432x288 with 1 Axes>"
            ]
          },
          "metadata": {
            "tags": [],
            "needs_background": "light"
          }
        }
      ]
    },
    {
      "cell_type": "markdown",
      "metadata": {
        "id": "HAJdBrDyGmnf",
        "colab_type": "text"
      },
      "source": [
        "## Task 4. *(8 points)*\n",
        "\n",
        "Repeat tasks 2 and 3 using expert triage ratings instead of nurse triage ratings. \n",
        "   - Are retrospective expert ratings more or less accurate than nurse scores? \n",
        "   - Are experts more or less fair than nurses, or about the same, by age and sex?\n"
      ]
    },
    {
      "cell_type": "markdown",
      "metadata": {
        "id": "lhDIKDyfh83_",
        "colab_type": "text"
      },
      "source": [
        "The retrospective expert ratings has a higher false positive rate of 52.4% (compared to nurse's 50%) and a slightly lower false negative rate of 17.79% (compared to nurse's 17.86%). All in all, expert ratings have about the same accuracy as nurse scores.\n",
        "\n",
        "In terms of fairness, the expert ratings' false negative rate is higher for the younger age group than the older age group by more than 10%, which is an improvement compared with nurses' (around 20% disparity), and its false positive rate for the older age group is much higher for the younger age group by slightly more than 10%, which is similar to the nurse's ratings. However, the expert ratings' fairness in terms of sex is a little bit worse than nurses'. It's false positive rate for female is higher than male by slightly less than 10% and its false negative rate for female is much higher than male by more than 5%. The differences are greater than the nurse ratings, which are respectively by about 10% and 5%. To conclude, while expert ratings's fairness is slightly better than nurses in terms of age, it's a bit more unfair in terms of sex.\n"
      ]
    },
    {
      "cell_type": "code",
      "metadata": {
        "id": "-dPs7hXtGtnh",
        "colab_type": "code",
        "colab": {
          "base_uri": "https://localhost:8080/",
          "height": 417
        },
        "outputId": "fd451fa9-cbee-4981-864b-1b0b7cf437ef"
      },
      "source": [
        "print(\"Distribution of expert triage scores\")\n",
        "print(df['Expert Triage'].value_counts()/len(df))\n",
        "print()\n",
        "\n",
        "plt.hist(df['Expert Triage'], bins=5)\n",
        "plt.xticks(np.arange(1, 6, 1))\n",
        "plt.xlabel(\"Expert triage scores\")\n",
        "plt.ylabel(\"Count in Training Data\")\n",
        "plt.show()"
      ],
      "execution_count": null,
      "outputs": [
        {
          "output_type": "stream",
          "text": [
            "Distribution of expert triage scores\n",
            "3    0.384373\n",
            "4    0.362273\n",
            "2    0.173639\n",
            "5    0.059195\n",
            "1    0.020521\n",
            "Name: Expert Triage, dtype: float64\n",
            "\n"
          ],
          "name": "stdout"
        },
        {
          "output_type": "display_data",
          "data": {
            "image/png": "[encoded data removed]",
            "text/plain": [
              "<Figure size 432x288 with 1 Axes>"
            ]
          },
          "metadata": {
            "tags": [],
            "needs_background": "light"
          }
        }
      ]
    },
    {
      "cell_type": "code",
      "metadata": {
        "id": "4FlE2PNE9-3P",
        "colab_type": "code",
        "colab": {
          "base_uri": "https://localhost:8080/",
          "height": 278
        },
        "outputId": "4e7aac3c-2022-4759-d028-7e3123fab11e"
      },
      "source": [
        "plt.bar(older_age_group['Expert Triage'].value_counts().index, older_age_group['Expert Triage'].value_counts())\n",
        "plt.bar(younger_age_group['Expert Triage'].value_counts().index, younger_age_group['Expert Triage'].value_counts(), bottom = older_age_group['Nurse Triage'].value_counts())\n",
        "plt.legend([\"Older_age_group\", \"Younger_age_group\"])\n",
        "plt.xlabel(\"Expert triage scores\")\n",
        "plt.ylabel(\"Count in Training Data\")\n",
        "plt.show()"
      ],
      "execution_count": null,
      "outputs": [
        {
          "output_type": "display_data",
          "data": {
            "image/png": "[encoded data removed]",
            "text/plain": [
              "<Figure size 432x288 with 1 Axes>"
            ]
          },
          "metadata": {
            "tags": [],
            "needs_background": "light"
          }
        }
      ]
    },
    {
      "cell_type": "code",
      "metadata": {
        "id": "Uw0-Pcr8-LUg",
        "colab_type": "code",
        "colab": {
          "base_uri": "https://localhost:8080/",
          "height": 278
        },
        "outputId": "69f0f1fe-d0e5-462d-e5eb-cba50655759f"
      },
      "source": [
        "plt.bar(female['Expert Triage'].value_counts().index, female['Expert Triage'].value_counts())\n",
        "plt.bar(male['Expert Triage'].value_counts().index, male['Expert Triage'].value_counts(), bottom = female['Expert Triage'].value_counts())\n",
        "plt.legend([\"female\", \"male\"])\n",
        "plt.xlabel(\"Expert triage scores\")\n",
        "plt.ylabel(\"Count in Training Data\")\n",
        "plt.show()"
      ],
      "execution_count": null,
      "outputs": [
        {
          "output_type": "display_data",
          "data": {
            "image/png": "[encoded data removed]",
            "text/plain": [
              "<Figure size 432x288 with 1 Axes>"
            ]
          },
          "metadata": {
            "tags": [],
            "needs_background": "light"
          }
        }
      ]
    },
    {
      "cell_type": "code",
      "metadata": {
        "id": "P7eio5Vb-hcT",
        "colab_type": "code",
        "colab": {
          "base_uri": "https://localhost:8080/",
          "height": 34
        },
        "outputId": "dc5980e4-3d43-4abf-a2bb-89866e578c51"
      },
      "source": [
        "false_positive = df.loc[(df['Expert High-Risk']==1) & (df['Discharged']==True)]\n",
        "false_positive_rate = len(false_positive) / len(df.loc[df['Expert High-Risk']==1])\n",
        "print(f\"The false positive rate for the whole population is {false_positive_rate}\")"
      ],
      "execution_count": null,
      "outputs": [
        {
          "output_type": "stream",
          "text": [
            "The false positive rate for the whole population is 0.5238744884038199\n"
          ],
          "name": "stdout"
        }
      ]
    },
    {
      "cell_type": "code",
      "metadata": {
        "id": "y_7rHZZx-lZ1",
        "colab_type": "code",
        "colab": {
          "base_uri": "https://localhost:8080/",
          "height": 34
        },
        "outputId": "cfda302d-8f77-4177-ff26-6c2f1558ed8f"
      },
      "source": [
        "false_negative = df.loc[(df['Expert High-Risk']==0) & (df['Discharged']==False)]\n",
        "false_negative_rate = len(false_negative) / len(df.loc[df['Expert High-Risk']==0])\n",
        "print(f\"The false negative rate for the whole population is {false_negative_rate}\")"
      ],
      "execution_count": null,
      "outputs": [
        {
          "output_type": "stream",
          "text": [
            "The false negative rate for the whole population is 0.17790262172284643\n"
          ],
          "name": "stdout"
        }
      ]
    },
    {
      "cell_type": "code",
      "metadata": {
        "id": "mAZxYeaj-o9t",
        "colab_type": "code",
        "colab": {
          "base_uri": "https://localhost:8080/",
          "height": 278
        },
        "outputId": "61491cbe-eda3-46bc-b2dc-96392c3f8d76"
      },
      "source": [
        "# Error balance of false positives\n",
        "age_probs = []\n",
        "for age in [older_age_group, younger_age_group]:\n",
        "  probs = []\n",
        "  false_positive = age.loc[(age['Expert High-Risk']==1) & (age['Discharged']==True)]\n",
        "  false_positive_rate = len(false_positive) / len(age.loc[age['Expert High-Risk']==1])\n",
        "  probs.append(false_positive_rate)\n",
        "  age_probs.append(probs)\n",
        "\n",
        "fig = plt.gcf()\n",
        "plt.bar(range(1,2), age_probs[0], align='edge', width=-.1)\n",
        "plt.bar(range(1,2), age_probs[1], align='edge', width=.1)\n",
        "plt.xlabel(\"Age Groups\")\n",
        "plt.xticks(ticks=range(1,2))\n",
        "plt.xticks([0], [\"Age groups\"])\n",
        "plt.ylabel(\"False Positive Rate\")\n",
        "plt.legend([\"older_age_group\", \"younger_age_group\"])\n",
        "plt.title(\"Comparative False Positive Rates\")\n",
        "plt.show()"
      ],
      "execution_count": null,
      "outputs": [
        {
          "output_type": "display_data",
          "data": {
            "image/png": "[encoded data removed]",
            "text/plain": [
              "<Figure size 432x288 with 1 Axes>"
            ]
          },
          "metadata": {
            "tags": [],
            "needs_background": "light"
          }
        }
      ]
    },
    {
      "cell_type": "code",
      "metadata": {
        "id": "D-t-25la-03j",
        "colab_type": "code",
        "colab": {
          "base_uri": "https://localhost:8080/",
          "height": 278
        },
        "outputId": "4a2837b8-ead0-444d-ac28-22baf6396786"
      },
      "source": [
        "# Error balance of false positives\n",
        "sex_probs = []\n",
        "for sex in [female, male]:\n",
        "  probs = []\n",
        "  false_positive = sex.loc[(sex['Expert High-Risk']==1) & (sex['Discharged']==True)]\n",
        "  false_positive_rate = len(false_positive) / len(sex.loc[sex['Expert High-Risk']==1])\n",
        "  probs.append(false_positive_rate)\n",
        "  sex_probs.append(probs)\n",
        "\n",
        "fig = plt.gcf()\n",
        "plt.bar(range(1,2), sex_probs[0], align='edge', width=-.1)\n",
        "plt.bar(range(1,2), sex_probs[1], align='edge', width=.1)\n",
        "plt.xlabel(\"Sex\")\n",
        "plt.xticks(ticks=range(1,2))\n",
        "plt.xticks([0], [\"Sex\"])\n",
        "plt.ylabel(\"False Positive Rate\")\n",
        "plt.legend([\"female\", \"male\"])\n",
        "plt.title(\"Comparative False Positive Rates\")\n",
        "plt.show()"
      ],
      "execution_count": null,
      "outputs": [
        {
          "output_type": "display_data",
          "data": {
            "image/png": "[encoded data removed]",
            "text/plain": [
              "<Figure size 432x288 with 1 Axes>"
            ]
          },
          "metadata": {
            "tags": [],
            "needs_background": "light"
          }
        }
      ]
    },
    {
      "cell_type": "code",
      "metadata": {
        "id": "RIJ4WEEO-5Mc",
        "colab_type": "code",
        "colab": {
          "base_uri": "https://localhost:8080/",
          "height": 278
        },
        "outputId": "57f5ffb4-aa0d-4fa9-c4b6-724beb709b6f"
      },
      "source": [
        "# Error balance of false negatives\n",
        "age_probs = []\n",
        "for age in [older_age_group, younger_age_group]:\n",
        "  probs = []\n",
        "  false_negative = age.loc[(age['Expert High-Risk']==0) & (age['Discharged']==False)]\n",
        "  false_negative_rate = len(false_negative) / len(age.loc[age['Expert High-Risk']==0]) \n",
        "  probs.append(false_negative_rate)\n",
        "  age_probs.append(probs)\n",
        "\n",
        "fig = plt.gcf()\n",
        "plt.bar(range(1,2), age_probs[0], align='edge', width=-.1)\n",
        "plt.bar(range(1,2), age_probs[1], align='edge', width=.1)\n",
        "plt.xlabel(\"Age Groups\")\n",
        "plt.xticks(ticks=range(1,2))\n",
        "plt.xticks([0], [\"Age groups\"])\n",
        "plt.ylabel(\"False Negative Rate\")\n",
        "plt.legend([\"older_age_group\", \"younger_age_group\"])\n",
        "plt.title(\"Comparative False Negative Rates\")\n",
        "plt.show()"
      ],
      "execution_count": null,
      "outputs": [
        {
          "output_type": "display_data",
          "data": {
            "image/png": "[encoded data removed]",
            "text/plain": [
              "<Figure size 432x288 with 1 Axes>"
            ]
          },
          "metadata": {
            "tags": [],
            "needs_background": "light"
          }
        }
      ]
    },
    {
      "cell_type": "code",
      "metadata": {
        "id": "j0NGy9e9-93X",
        "colab_type": "code",
        "colab": {
          "base_uri": "https://localhost:8080/",
          "height": 278
        },
        "outputId": "f379f337-3d5d-4007-e6aa-1dd6887e0afc"
      },
      "source": [
        "# Error balance of false negatives\n",
        "sex_probs = []\n",
        "for sex in [female, male]:\n",
        "  probs = []\n",
        "  false_negative = sex.loc[(sex['Expert High-Risk']==0) & (sex['Discharged']==False)]\n",
        "  false_negative_rate = len(false_negative) / len(sex.loc[sex['Expert High-Risk']==0]) \n",
        "  probs.append(false_negative_rate)\n",
        "  sex_probs.append(probs)\n",
        "\n",
        "fig = plt.gcf()\n",
        "plt.bar(range(1,2), sex_probs[0], align='edge', width=-.1)\n",
        "plt.bar(range(1,2), sex_probs[1], align='edge', width=.1)\n",
        "plt.xlabel(\"Sex\")\n",
        "plt.xticks(ticks=range(1,2))\n",
        "plt.xticks([0], [\"Sex\"])\n",
        "plt.ylabel(\"False Negative Rate\")\n",
        "plt.legend([\"female\", \"male\"])\n",
        "plt.title(\"Comparative False Negative Rates\")\n",
        "plt.show()"
      ],
      "execution_count": null,
      "outputs": [
        {
          "output_type": "display_data",
          "data": {
            "image/png": "[encoded data removed]",
            "text/plain": [
              "<Figure size 432x288 with 1 Axes>"
            ]
          },
          "metadata": {
            "tags": [],
            "needs_background": "light"
          }
        }
      ]
    },
    {
      "cell_type": "markdown",
      "metadata": {
        "id": "oxgyUzb_FYT2",
        "colab_type": "text"
      },
      "source": [
        "## Extra Credit *(up to 6 points)*\n",
        "\n",
        "Thirteen additional attributes are available for analysis in this dataset:\n",
        "\n",
        "Several attributes about the case itself:\n",
        "   - Text descriptions of the primary patient complaint and the eventual patient diagnosis.\n",
        "   - The patient’s arrival mode (how did they get to the hospital?)\n",
        "   - A binary feature marking whether the visit is injury-related.\n",
        "   - A nominal feature describing whether the patient was alert and responsive.\n",
        "   - A binary feature marking whether the patient was in pain.\n",
        "   - A numeric feature marking the patient’s self-reported pain, from 1 (least) to 10 (worst)\n",
        "\n",
        "Several vital sign measurements from the patient:\n",
        "   - Systolic and Diastolic blood pressure.\n",
        "   - Heart rate\n",
        "   - Respiratory (breathing) rate\n",
        "   - Body Temperature\n",
        "   - Oxygen Saturation\n",
        "\n",
        "Train a machine learning model to predict triage scores using the additional columns in the dataset as features, and using either nurse or expert scores as your ground truth labels. Repeat tasks 2 and 3 using the predictions from a cross-validated model. \n",
        "\n",
        "   - Does the model replicate the accuracy of humans? \n",
        "   - Is the model equally fair? Why or why not?\n"
      ]
    },
    {
      "cell_type": "markdown",
      "metadata": {
        "id": "08FY3xIgoTlQ",
        "colab_type": "text"
      },
      "source": [
        "### Building the ML Model\n",
        "\n",
        "I decided to not use Pain Scale and Oxygen saturation as features because there are too many missing values. The dataset only has about 300 rows after I remove the missing values for these two columns. Since Diagnosis only has two missing values, I kept it as a feature. \n",
        "\n",
        "I used SVC as classifier because it has the highest level of accuracy among all classifiers and 'Nurse High-Risk' as ground truth labels."
      ]
    },
    {
      "cell_type": "code",
      "metadata": {
        "id": "Qb5nh5LEE7cc",
        "colab_type": "code",
        "colab": {
          "base_uri": "https://localhost:8080/",
          "height": 416
        },
        "outputId": "752a5342-5265-44f8-8ba2-d0ffef868c18"
      },
      "source": [
        "df.isnull().sum()"
      ],
      "execution_count": null,
      "outputs": [
        {
          "output_type": "execute_result",
          "data": {
            "text/plain": [
              "Age                    0\n",
              "Sex                    0\n",
              "Arrival mode           0\n",
              "Complaint              0\n",
              "Diagnosis              2\n",
              "Injury                 0\n",
              "Alertness              0\n",
              "Pain                   0\n",
              "Pain Scale           556\n",
              "Systolic BP            0\n",
              "Diastolic BP           0\n",
              "Heart Rate             0\n",
              "Respiratory Rate       0\n",
              "Temperature            0\n",
              "Oxygen Saturation    688\n",
              "Nurse Triage           0\n",
              "Expert Triage          0\n",
              "Disposition            0\n",
              "Nurse High-Risk        0\n",
              "Expert High-Risk       0\n",
              "Age Group              0\n",
              "Discharged             0\n",
              "dtype: int64"
            ]
          },
          "metadata": {
            "tags": []
          },
          "execution_count": 33
        }
      ]
    },
    {
      "cell_type": "code",
      "metadata": {
        "id": "D0hVDg4NGOD-",
        "colab_type": "code",
        "colab": {}
      },
      "source": [
        "df = df.dropna(subset=['Diagnosis'])"
      ],
      "execution_count": null,
      "outputs": []
    },
    {
      "cell_type": "code",
      "metadata": {
        "id": "0HgcgfPyFnBA",
        "colab_type": "code",
        "colab": {}
      },
      "source": [
        "from sklearn.model_selection import train_test_split\n",
        "from sklearn.metrics import accuracy_score\n",
        "from sklearn.linear_model import LogisticRegression\n",
        "from sklearn.svm import LinearSVC, SVC\n",
        "\n",
        "# List the features from the data\n",
        "features = [\"Complaint\", \"Diagnosis\", \"Injury\", \"Alertness\", \"Pain\", \"Systolic BP\", \"Diastolic BP\", \"Heart Rate\", \"Respiratory Rate\", \"Temperature\"]\n",
        "\n",
        "# Prepare our dataset\n",
        "X = df[features]\n",
        "X = pd.get_dummies(X)\n",
        "y = df[\"Nurse High-Risk\"]\n",
        "\n",
        "# Use scikit-learn to create train/test split and train the decision tree\n",
        "X_train, X_test, y_train, y_test = train_test_split(X,y,test_size=0.20, random_state=123)\n",
        "model = SVC(kernel='poly').fit(X_train, y_train)\n",
        "train_pred = model.predict(X_train)\n",
        "test_pred = model.predict(X_test)"
      ],
      "execution_count": null,
      "outputs": []
    },
    {
      "cell_type": "code",
      "metadata": {
        "id": "CaLnZqcXhyiH",
        "colab_type": "code",
        "colab": {
          "base_uri": "https://localhost:8080/",
          "height": 52
        },
        "outputId": "11eb32c1-7ef3-4ed9-a38b-5693425b7056"
      },
      "source": [
        "train_accuracy = 100*accuracy_score(y_train, train_pred)\n",
        "test_accuracy = 100*accuracy_score(y_test, test_pred)\n",
        "print(f\"Accuracy on the train set: {train_accuracy:.1f}\")\n",
        "print(f\"Accuracy on the test set: {test_accuracy:.1f}\")"
      ],
      "execution_count": null,
      "outputs": [
        {
          "output_type": "stream",
          "text": [
            "Accuracy on the train set: 97.8\n",
            "Accuracy on the test set: 70.4\n"
          ],
          "name": "stdout"
        }
      ]
    },
    {
      "cell_type": "code",
      "metadata": {
        "id": "vYrm1_0DlTA1",
        "colab_type": "code",
        "colab": {}
      },
      "source": [
        "sample = df.loc[X_test.index, :]\n",
        "sample['risk_prediction'] = test_pred"
      ],
      "execution_count": null,
      "outputs": []
    },
    {
      "cell_type": "markdown",
      "metadata": {
        "id": "VKfj_p7qo6st",
        "colab_type": "text"
      },
      "source": [
        "### Model Accuracy and Fairness\n",
        "\n",
        "The model prediction has a slightly higher false positive rate (56.85%) and a slightly higher false negative rate (22.4%) compared to the accuracy of nurses, which has a false positive rate of 50.07% and a false negative rate of 17.86%.\n",
        "\n",
        "The model is slightly less fair in terms of distribution among age subgroups and sex subgroups. The discrepancies in the false positive rate and false negative rate among the older age group and the younger age group, as well as female and male, have been enlarged. This shows that the model did not only replicate the existing unfairness, but also exaggerated the unfairness because the model is working on limited, feature-based pattern matching. As a result, the model will emphasize the stronger signals ignore smaller signals from weaker features, which will worsen the existing biases in the real world. "
      ]
    },
    {
      "cell_type": "code",
      "metadata": {
        "id": "jAv62pI1jZMJ",
        "colab_type": "code",
        "colab": {
          "base_uri": "https://localhost:8080/",
          "height": 34
        },
        "outputId": "efe1a907-1587-47e6-8e09-69d664006d71"
      },
      "source": [
        "false_positive = sample.loc[(sample['risk_prediction']==1) & (sample['Discharged']==True)]\n",
        "false_positive_rate = len(false_positive) / len(sample.loc[sample['risk_prediction']==1])\n",
        "print(f\"The false positive rate for the whole population is {false_positive_rate}\")"
      ],
      "execution_count": null,
      "outputs": [
        {
          "output_type": "stream",
          "text": [
            "The false positive rate for the whole population is 0.5684931506849316\n"
          ],
          "name": "stdout"
        }
      ]
    },
    {
      "cell_type": "code",
      "metadata": {
        "id": "bB4pA9uTmWQX",
        "colab_type": "code",
        "colab": {
          "base_uri": "https://localhost:8080/",
          "height": 34
        },
        "outputId": "6cfaf8fb-4b82-40da-a39b-45d2c479c20d"
      },
      "source": [
        "false_negative = sample.loc[(sample['risk_prediction']==0) & (sample['Discharged']==False)]\n",
        "false_negative_rate = len(false_negative) / len(sample.loc[sample['risk_prediction']==0])\n",
        "print(f\"The false negative rate for the whole population is {false_negative_rate}\")"
      ],
      "execution_count": null,
      "outputs": [
        {
          "output_type": "stream",
          "text": [
            "The false negative rate for the whole population is 0.22429906542056074\n"
          ],
          "name": "stdout"
        }
      ]
    },
    {
      "cell_type": "code",
      "metadata": {
        "id": "5vgFsGS0mp7R",
        "colab_type": "code",
        "colab": {
          "base_uri": "https://localhost:8080/",
          "height": 278
        },
        "outputId": "d3e5cb63-3a82-4191-876c-6b66c655a98d"
      },
      "source": [
        "older_age_group = sample.loc[sample['Age Group']==1]\n",
        "younger_age_group = sample.loc[sample['Age Group']==0]\n",
        "\n",
        "# Error balance of false positives\n",
        "age_probs = []\n",
        "for age in [older_age_group, younger_age_group]:\n",
        "  probs = []\n",
        "  false_positive = age.loc[(age['risk_prediction']==1) & (age['Discharged']==True)]\n",
        "  false_positive_rate = len(false_positive) / len(age.loc[age['risk_prediction']==1])\n",
        "  probs.append(false_positive_rate)\n",
        "  age_probs.append(probs)\n",
        "\n",
        "fig = plt.gcf()\n",
        "plt.bar(range(1,2), age_probs[0], align='edge', width=-.1)\n",
        "plt.bar(range(1,2), age_probs[1], align='edge', width=.1)\n",
        "plt.xlabel(\"Age Groups\")\n",
        "plt.xticks(ticks=range(1,2))\n",
        "plt.xticks([0], [\"Age groups\"])\n",
        "plt.ylabel(\"False Positive Rate\")\n",
        "plt.legend([\"older_age_group\", \"younger_age_group\"])\n",
        "plt.title(\"Comparative False Positive Rates\")\n",
        "plt.show()"
      ],
      "execution_count": null,
      "outputs": [
        {
          "output_type": "display_data",
          "data": {
            "image/png": "[encoded data removed]",
            "text/plain": [
              "<Figure size 432x288 with 1 Axes>"
            ]
          },
          "metadata": {
            "tags": [],
            "needs_background": "light"
          }
        }
      ]
    },
    {
      "cell_type": "code",
      "metadata": {
        "id": "gRuDccOnm8ZL",
        "colab_type": "code",
        "colab": {
          "base_uri": "https://localhost:8080/",
          "height": 278
        },
        "outputId": "23eddd3c-ddbb-4553-bfff-afef37df93d6"
      },
      "source": [
        "# Error balance of false positives\n",
        "age_probs = []\n",
        "for age in [older_age_group, younger_age_group]:\n",
        "  probs = []\n",
        "  false_negative = age.loc[(age['risk_prediction']==0) & (age['Discharged']==False)]\n",
        "  false_negative_rate = len(false_negative) / len(age.loc[age['risk_prediction']==0]) \n",
        "  probs.append(false_negative_rate)\n",
        "  age_probs.append(probs)\n",
        "\n",
        "fig = plt.gcf()\n",
        "plt.bar(range(1,2), age_probs[0], align='edge', width=-.1)\n",
        "plt.bar(range(1,2), age_probs[1], align='edge', width=.1)\n",
        "plt.xlabel(\"Age Groups\")\n",
        "plt.xticks(ticks=range(1,2))\n",
        "plt.xticks([0], [\"Age groups\"])\n",
        "plt.ylabel(\"False Negative Rate\")\n",
        "plt.legend([\"older_age_group\", \"younger_age_group\"])\n",
        "plt.title(\"Comparative False Negative Rates\")\n",
        "plt.show()"
      ],
      "execution_count": null,
      "outputs": [
        {
          "output_type": "display_data",
          "data": {
            "image/png": "[encoded data removed]",
            "text/plain": [
              "<Figure size 432x288 with 1 Axes>"
            ]
          },
          "metadata": {
            "tags": [],
            "needs_background": "light"
          }
        }
      ]
    },
    {
      "cell_type": "code",
      "metadata": {
        "id": "qyhchq5GnCc-",
        "colab_type": "code",
        "colab": {
          "base_uri": "https://localhost:8080/",
          "height": 278
        },
        "outputId": "189d7d03-f1c9-476e-9a06-9aab6c2ff2e9"
      },
      "source": [
        "female = sample.loc[sample['Sex']=='Female']\n",
        "male = sample.loc[sample['Sex']=='Male']\n",
        "\n",
        "# Error balance of false negatives\n",
        "sex_probs = []\n",
        "for sex in [female, male]:\n",
        "  probs = []\n",
        "  false_positive = sex.loc[(sex['Nurse High-Risk']==1) & (sex['Discharged']==True)]\n",
        "  false_positive_rate = len(false_positive) / len(sex.loc[sex['Nurse High-Risk']==1])\n",
        "  probs.append(false_positive_rate)\n",
        "  sex_probs.append(probs)\n",
        "\n",
        "fig = plt.gcf()\n",
        "plt.bar(range(1,2), sex_probs[0], align='edge', width=-.1)\n",
        "plt.bar(range(1,2), sex_probs[1], align='edge', width=.1)\n",
        "plt.xlabel(\"Sex\")\n",
        "plt.xticks(ticks=range(1,2))\n",
        "plt.xticks([0], [\"Sex\"])\n",
        "plt.ylabel(\"False Positive Rate\")\n",
        "plt.legend([\"female\", \"male\"])\n",
        "plt.title(\"Comparative False Positive Rates\")\n",
        "plt.show()"
      ],
      "execution_count": null,
      "outputs": [
        {
          "output_type": "display_data",
          "data": {
            "image/png": "[encoded data removed]",
            "text/plain": [
              "<Figure size 432x288 with 1 Axes>"
            ]
          },
          "metadata": {
            "tags": [],
            "needs_background": "light"
          }
        }
      ]
    },
    {
      "cell_type": "code",
      "metadata": {
        "id": "knBKSwJBnUJN",
        "colab_type": "code",
        "colab": {
          "base_uri": "https://localhost:8080/",
          "height": 278
        },
        "outputId": "91faca6d-7026-45cb-a1dc-76a2058d4213"
      },
      "source": [
        "# Error balance of false negatives\n",
        "sex_probs = []\n",
        "for sex in [female, male]:\n",
        "  probs = []\n",
        "  false_negative = sex.loc[(sex['Nurse High-Risk']==0) & (sex['Discharged']==False)]\n",
        "  false_negative_rate = len(false_negative) / len(sex.loc[sex['Nurse High-Risk']==0]) \n",
        "  probs.append(false_negative_rate)\n",
        "  sex_probs.append(probs)\n",
        "\n",
        "fig = plt.gcf()\n",
        "plt.bar(range(1,2), sex_probs[0], align='edge', width=-.1)\n",
        "plt.bar(range(1,2), sex_probs[1], align='edge', width=.1)\n",
        "plt.xlabel(\"Sex\")\n",
        "plt.xticks(ticks=range(1,2))\n",
        "plt.xticks([0], [\"Sex\"])\n",
        "plt.ylabel(\"False Negative Rate\")\n",
        "plt.legend([\"female\", \"male\"])\n",
        "plt.title(\"Comparative False Negative Rates\")\n",
        "plt.show()"
      ],
      "execution_count": null,
      "outputs": [
        {
          "output_type": "display_data",
          "data": {
            "image/png": "[encoded data removed]",
            "text/plain": [
              "<Figure size 432x288 with 1 Axes>"
            ]
          },
          "metadata": {
            "tags": [],
            "needs_background": "light"
          }
        }
      ]
    }
  ]
}