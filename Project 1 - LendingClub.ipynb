{
  "nbformat": 4,
  "nbformat_minor": 0,
  "metadata": {
    "colab": {
      "name": "Homework_1_Yunxin.ipynb",
      "provenance": [],
      "collapsed_sections": [],
      "include_colab_link": true
    },
    "kernelspec": {
      "name": "python3",
      "display_name": "Python 3"
    }
  },
  "cells": [
    {
      "cell_type": "markdown",
      "metadata": {
        "id": "view-in-github",
        "colab_type": "text"
      },
      "source": [
        "<a href=\"https://colab.research.google.com/github/karenyxwang/Machine_Learning/blob/master/Project%201%20-%20LendingClub.ipynb\" target=\"_parent\"><img src=\"https://colab.research.google.com/assets/colab-badge.svg\" alt=\"Open In Colab\"/></a>"
      ]
    },
    {
      "cell_type": "markdown",
      "metadata": {
        "id": "2o1yJ2iBxEF4",
        "colab_type": "text"
      },
      "source": [
        "# Download the Data \n",
        "Keep this if you are working in Google Colab. Delete this if you are working on your own computer and have the data downloaded already. "
      ]
    },
    {
      "cell_type": "code",
      "metadata": {
        "id": "UT2wAPLswcXw",
        "colab_type": "code",
        "colab": {
          "base_uri": "https://localhost:8080/",
          "height": 332
        },
        "outputId": "8e7ea8bf-2cf7-4c66-81d0-138f0562773f"
      },
      "source": [
        "!wget --no-check-certificate 'https://docs.google.com/uc?export=download&id=0B5qTk6DHjanhOV9LRE5DY3l1T2pGemVBNTVQVzVsMlFCcHF3' -O lendingclub.csv"
      ],
      "execution_count": null,
      "outputs": [
        {
          "output_type": "stream",
          "text": [
            "--2020-05-07 02:28:03--  https://docs.google.com/uc?export=download&id=0B5qTk6DHjanhOV9LRE5DY3l1T2pGemVBNTVQVzVsMlFCcHF3\n",
            "Resolving docs.google.com (docs.google.com)... 64.233.189.139, 64.233.189.138, 64.233.189.101, ...\n",
            "Connecting to docs.google.com (docs.google.com)|64.233.189.139|:443... connected.\n",
            "HTTP request sent, awaiting response... 302 Moved Temporarily\n",
            "Location: https://doc-10-5c-docs.googleusercontent.com/docs/securesc/ha0ro937gcuc7l7deffksulhg5h7mbp1/5k7os2v64p4q2rgpq7c1o62rpliivlsm/1588818450000/09819396713149841370/*/0B5qTk6DHjanhOV9LRE5DY3l1T2pGemVBNTVQVzVsMlFCcHF3?e=download [following]\n",
            "Warning: wildcards not supported in HTTP.\n",
            "--2020-05-07 02:28:05--  https://doc-10-5c-docs.googleusercontent.com/docs/securesc/ha0ro937gcuc7l7deffksulhg5h7mbp1/5k7os2v64p4q2rgpq7c1o62rpliivlsm/1588818450000/09819396713149841370/*/0B5qTk6DHjanhOV9LRE5DY3l1T2pGemVBNTVQVzVsMlFCcHF3?e=download\n",
            "Resolving doc-10-5c-docs.googleusercontent.com (doc-10-5c-docs.googleusercontent.com)... 64.233.187.132, 2404:6800:4008:c05::84\n",
            "Connecting to doc-10-5c-docs.googleusercontent.com (doc-10-5c-docs.googleusercontent.com)|64.233.187.132|:443... connected.\n",
            "HTTP request sent, awaiting response... 200 OK\n",
            "Length: unspecified [text/csv]\n",
            "Saving to: ‘lendingclub.csv’\n",
            "\n",
            "lendingclub.csv         [ <=>                ]   6.03M  31.1MB/s    in 0.2s    \n",
            "\n",
            "2020-05-07 02:28:06 (31.1 MB/s) - ‘lendingclub.csv’ saved [6325329]\n",
            "\n"
          ],
          "name": "stdout"
        }
      ]
    },
    {
      "cell_type": "markdown",
      "metadata": {
        "id": "b303czQnwtqs",
        "colab_type": "text"
      },
      "source": [
        "# Introduction to homework 1\n",
        "On Canvas (or in this notebook's files) you’ll find a new file, **lendingclub.csv**. Each row of this file represents a single user\n",
        "account on **LendingClub.com**. The site consists of two types of users, **borrowers** who are applying for a new loan, and **investors** who lend money for fixed periods of time. Each row in our dataset represents a single borrower at the time they apply for their first peer-to-peer loan, and each row contains nine columns:\n",
        "\n",
        "- Amount requested for their first loan\n",
        "- Year the loan was requested (this dataset covers only a five-year period, 2008-2012)\n",
        "- Title of the loan application (written by the borrower)\n",
        "- FICO score (credit rating) of the borrower\n",
        "- “Debt-to-Income”: A ratio of the borrower’s total monthly debt payments, excluding home\n",
        "mortgage and the requested loan, to the borrower’s self-reported monthly income.\n",
        "- ZIP code of the borrower (the last two digits of each ZIP are masked for anonymity)\n",
        "- U.S. state that the borrower resides in.\n",
        "- Length of time that the borrower has been employed at their current job, from 0 to 10+ years.\n",
        "- A binary outcome variable for whether the user’s loan application was accepted by investors.\n",
        "\n",
        "Our goal with this project will be to automatically predict whether a borrower will be approved for a loan from the investor members of the website, based only on the data provided above. For each of the following questions, add a series of code and markdown cells to develop an easily readable report responding to the question. "
      ]
    },
    {
      "cell_type": "markdown",
      "metadata": {
        "id": "783C7f61yxMT",
        "colab_type": "text"
      },
      "source": [
        "# Question 1:\n",
        "- Why is this data about users valuable to LendingClub?\n",
        "- Name at least two different ways this automated prediction could be used either for in-app product changes, or business decision-making."
      ]
    },
    {
      "cell_type": "markdown",
      "metadata": {
        "id": "mE5BpdlkUA0d",
        "colab_type": "text"
      },
      "source": [
        "Part 1:\n",
        "\n",
        "The data about users is valuable to LendingClub in mainly three ways.\n",
        "\n",
        "First of all, the data helps LendingClub understand its users. The data provided in this homework contains the information about borrowers, which enables LendingClub to analyze the characteristics of the borrowers (where do they come from/how long have they been employed/what is the reason for borrowing, etc.) as well as their behaviors (how much do they borrow). Such information could help LendingClub better meet the need of the existing users and expand its users base by marketing to targeted consumer groups.\n",
        "\n",
        "Secondly, the data helps LendingClub to evaluate its performance. As a peer-to-peer lending platform, LendingClub may want to know if the platform is successfully matching the users and lenders together. If the performance is not satisfactory, it could also be important to understand the characteristics of successful borrowers and unsuccessful borrowers. \n",
        "\n",
        "Last but not least, LendingClub can use this data to predict if the borrower will be successfully approved for a loan from the investor, thereby increasing the efficiency of the platform and predicting future trends.\n",
        "\n",
        "Part 2:\n",
        "\n",
        "The automated prediction could be used for in-app product changes. If the borrower is predicted to be accepted by investors, the app can automatically permit the borrower's request and post his/her request in the app. If the borrower is predicted to be rejected by investors, the app can automatically inform the borrower that his loan request will most likely to be rejected and therefore the borrower needs to adjust his/her request. In this way, LendingClub does not have to waste resources on borrowers who are most likely to be rejected.\n",
        "\n",
        "The automated prediction could also be used for business decision-making. Based on the result of automated prediction, LendingClub could improve customer services targeting at borrowers who are predicted to be accepted by investors, thereby increasing customer retention rate. For example, for borrowers who are predicted to be accepted, LendingClub could more actively reach out to them, hear their concerns, and even provide better discounts. In this way, LendingClub could maximize the usage of its resources and increase its efficiency."
      ]
    },
    {
      "cell_type": "markdown",
      "metadata": {
        "id": "8jV6x5r_y5CB",
        "colab_type": "text"
      },
      "source": [
        "# Question 2: \n",
        "Train a decision tree classifier to predict loan acceptance based on the features provided. Write a report giving at minimum the following information on your model:\n",
        "- Class distribution of the outcome labels.\n",
        "- List of features you used from the data, including their name and data type (numeric or\n",
        "nominal). For each feature, provide min, mean, and max values (if the feature is numeric) or\n",
        "list all possible labels (if the feature is nominal).\n",
        "- List of hyperparameter settings for the decision tree.\n",
        "- Performance of the trained classifier, using metrics like accuracy, kappa, precision, and recall. You must provide a labeled confusion matrix.\n",
        "\n",
        "You should NOT perform any optimization; all you need to do is train a single decision tree and report results. You will be tuning hyperparameters and performing other evaluations in Homework 2."
      ]
    },
    {
      "cell_type": "code",
      "metadata": {
        "id": "pXlh5-t7UGOg",
        "colab_type": "code",
        "colab": {
          "base_uri": "https://localhost:8080/",
          "height": 202
        },
        "outputId": "7703d1f2-2914-40e0-a96d-ae32d647fed0"
      },
      "source": [
        "import pandas as pd\n",
        "import numpy as np\n",
        "from sklearn import tree\n",
        "import matplotlib.pyplot as plt\n",
        "from sklearn.model_selection import train_test_split\n",
        "from sklearn.tree import DecisionTreeClassifier\n",
        "from sklearn.metrics import accuracy_score, precision_score, recall_score, cohen_kappa_score, confusion_matrix, ConfusionMatrixDisplay\n",
        "\n",
        "# Read the LendingClub data\n",
        "lendingclub = pd.read_csv('lendingclub.csv')\n",
        "lendingclub.head()"
      ],
      "execution_count": null,
      "outputs": [
        {
          "output_type": "execute_result",
          "data": {
            "text/html": [
              "<div>\n",
              "<style scoped>\n",
              "    .dataframe tbody tr th:only-of-type {\n",
              "        vertical-align: middle;\n",
              "    }\n",
              "\n",
              "    .dataframe tbody tr th {\n",
              "        vertical-align: top;\n",
              "    }\n",
              "\n",
              "    .dataframe thead th {\n",
              "        text-align: right;\n",
              "    }\n",
              "</style>\n",
              "<table border=\"1\" class=\"dataframe\">\n",
              "  <thead>\n",
              "    <tr style=\"text-align: right;\">\n",
              "      <th></th>\n",
              "      <th>amount</th>\n",
              "      <th>date</th>\n",
              "      <th>title</th>\n",
              "      <th>fico</th>\n",
              "      <th>dti</th>\n",
              "      <th>zip</th>\n",
              "      <th>state</th>\n",
              "      <th>emp_length</th>\n",
              "      <th>policy_code</th>\n",
              "      <th>year</th>\n",
              "      <th>outcome</th>\n",
              "    </tr>\n",
              "  </thead>\n",
              "  <tbody>\n",
              "    <tr>\n",
              "      <th>0</th>\n",
              "      <td>2500.0</td>\n",
              "      <td>Dec-2011</td>\n",
              "      <td>bike</td>\n",
              "      <td>740.0</td>\n",
              "      <td>1.00</td>\n",
              "      <td>309xx</td>\n",
              "      <td>GA</td>\n",
              "      <td>&lt; 1 year</td>\n",
              "      <td>1.0</td>\n",
              "      <td>2011</td>\n",
              "      <td>accept</td>\n",
              "    </tr>\n",
              "    <tr>\n",
              "      <th>1</th>\n",
              "      <td>12000.0</td>\n",
              "      <td>Dec-2011</td>\n",
              "      <td>Consolidation</td>\n",
              "      <td>675.0</td>\n",
              "      <td>10.78</td>\n",
              "      <td>913xx</td>\n",
              "      <td>CA</td>\n",
              "      <td>10+ years</td>\n",
              "      <td>1.0</td>\n",
              "      <td>2011</td>\n",
              "      <td>accept</td>\n",
              "    </tr>\n",
              "    <tr>\n",
              "      <th>2</th>\n",
              "      <td>21000.0</td>\n",
              "      <td>Dec-2011</td>\n",
              "      <td>Debt Cleanup</td>\n",
              "      <td>705.0</td>\n",
              "      <td>13.22</td>\n",
              "      <td>335xx</td>\n",
              "      <td>FL</td>\n",
              "      <td>10+ years</td>\n",
              "      <td>1.0</td>\n",
              "      <td>2011</td>\n",
              "      <td>accept</td>\n",
              "    </tr>\n",
              "    <tr>\n",
              "      <th>3</th>\n",
              "      <td>31825.0</td>\n",
              "      <td>Dec-2011</td>\n",
              "      <td>Debt Consolidation Loan</td>\n",
              "      <td>760.0</td>\n",
              "      <td>14.03</td>\n",
              "      <td>080xx</td>\n",
              "      <td>NJ</td>\n",
              "      <td>5 years</td>\n",
              "      <td>1.0</td>\n",
              "      <td>2011</td>\n",
              "      <td>accept</td>\n",
              "    </tr>\n",
              "    <tr>\n",
              "      <th>4</th>\n",
              "      <td>12000.0</td>\n",
              "      <td>Dec-2011</td>\n",
              "      <td>Debt Consolidation</td>\n",
              "      <td>725.0</td>\n",
              "      <td>16.70</td>\n",
              "      <td>088xx</td>\n",
              "      <td>NJ</td>\n",
              "      <td>10+ years</td>\n",
              "      <td>1.0</td>\n",
              "      <td>2011</td>\n",
              "      <td>accept</td>\n",
              "    </tr>\n",
              "  </tbody>\n",
              "</table>\n",
              "</div>"
            ],
            "text/plain": [
              "    amount      date                    title  ...  policy_code  year outcome\n",
              "0   2500.0  Dec-2011                     bike  ...          1.0  2011  accept\n",
              "1  12000.0  Dec-2011            Consolidation  ...          1.0  2011  accept\n",
              "2  21000.0  Dec-2011             Debt Cleanup  ...          1.0  2011  accept\n",
              "3  31825.0  Dec-2011  Debt Consolidation Loan  ...          1.0  2011  accept\n",
              "4  12000.0  Dec-2011       Debt Consolidation  ...          1.0  2011  accept\n",
              "\n",
              "[5 rows x 11 columns]"
            ]
          },
          "metadata": {
            "tags": []
          },
          "execution_count": 2
        }
      ]
    },
    {
      "cell_type": "markdown",
      "metadata": {
        "id": "bSXMU23elSJX",
        "colab_type": "text"
      },
      "source": [
        "The prediction variable is 'outcome'. The class distributions of the outcome labels are 9245 'accept' and 71858 'reject'."
      ]
    },
    {
      "cell_type": "code",
      "metadata": {
        "id": "vxdqql4_K1cF",
        "colab_type": "code",
        "colab": {
          "base_uri": "https://localhost:8080/",
          "height": 141
        },
        "outputId": "cc42e753-9f62-4fc2-a03b-2ea998664a35"
      },
      "source": [
        "# List the class distribution of the outcome labels.\n",
        "lendingclub.groupby('outcome').count()"
      ],
      "execution_count": null,
      "outputs": [
        {
          "output_type": "execute_result",
          "data": {
            "text/html": [
              "<div>\n",
              "<style scoped>\n",
              "    .dataframe tbody tr th:only-of-type {\n",
              "        vertical-align: middle;\n",
              "    }\n",
              "\n",
              "    .dataframe tbody tr th {\n",
              "        vertical-align: top;\n",
              "    }\n",
              "\n",
              "    .dataframe thead th {\n",
              "        text-align: right;\n",
              "    }\n",
              "</style>\n",
              "<table border=\"1\" class=\"dataframe\">\n",
              "  <thead>\n",
              "    <tr style=\"text-align: right;\">\n",
              "      <th></th>\n",
              "      <th>amount</th>\n",
              "      <th>date</th>\n",
              "      <th>title</th>\n",
              "      <th>fico</th>\n",
              "      <th>dti</th>\n",
              "      <th>zip</th>\n",
              "      <th>state</th>\n",
              "      <th>emp_length</th>\n",
              "      <th>policy_code</th>\n",
              "      <th>year</th>\n",
              "    </tr>\n",
              "    <tr>\n",
              "      <th>outcome</th>\n",
              "      <th></th>\n",
              "      <th></th>\n",
              "      <th></th>\n",
              "      <th></th>\n",
              "      <th></th>\n",
              "      <th></th>\n",
              "      <th></th>\n",
              "      <th></th>\n",
              "      <th></th>\n",
              "      <th></th>\n",
              "    </tr>\n",
              "  </thead>\n",
              "  <tbody>\n",
              "    <tr>\n",
              "      <th>accept</th>\n",
              "      <td>9245</td>\n",
              "      <td>9245</td>\n",
              "      <td>9245</td>\n",
              "      <td>9245</td>\n",
              "      <td>9245</td>\n",
              "      <td>9245</td>\n",
              "      <td>9245</td>\n",
              "      <td>9245</td>\n",
              "      <td>9245</td>\n",
              "      <td>9245</td>\n",
              "    </tr>\n",
              "    <tr>\n",
              "      <th>reject</th>\n",
              "      <td>71858</td>\n",
              "      <td>71858</td>\n",
              "      <td>71858</td>\n",
              "      <td>71858</td>\n",
              "      <td>71858</td>\n",
              "      <td>71858</td>\n",
              "      <td>71858</td>\n",
              "      <td>71858</td>\n",
              "      <td>71858</td>\n",
              "      <td>71858</td>\n",
              "    </tr>\n",
              "  </tbody>\n",
              "</table>\n",
              "</div>"
            ],
            "text/plain": [
              "         amount   date  title   fico  ...  state  emp_length  policy_code   year\n",
              "outcome                               ...                                       \n",
              "accept     9245   9245   9245   9245  ...   9245        9245         9245   9245\n",
              "reject    71858  71858  71858  71858  ...  71858       71858        71858  71858\n",
              "\n",
              "[2 rows x 10 columns]"
            ]
          },
          "metadata": {
            "tags": []
          },
          "execution_count": 3
        }
      ]
    },
    {
      "cell_type": "markdown",
      "metadata": {
        "id": "PSuqB5MGndwH",
        "colab_type": "text"
      },
      "source": [
        "The features include amount (amount requested for their first loan), fico (credit rating of the borrower), dti (ratio of the borrower’s total monthly debt payments), state (U.S. state that the borrower resides in), and emp_length (length of time that the borrower has been employed at their current job). Among the features, 'state' and 'emp_length' are nominal values. \n",
        "\n",
        "The labels of 'state' are as follows.\n"
      ]
    },
    {
      "cell_type": "code",
      "metadata": {
        "id": "IpGnhwtGMXO-",
        "colab_type": "code",
        "colab": {
          "base_uri": "https://localhost:8080/",
          "height": 104
        },
        "outputId": "67cbf993-b244-4754-efb8-84e310e6de84"
      },
      "source": [
        "# List all labels of nominal feature 'state'.\n",
        "lendingclub.state.unique()"
      ],
      "execution_count": null,
      "outputs": [
        {
          "output_type": "execute_result",
          "data": {
            "text/plain": [
              "array(['GA', 'CA', 'FL', 'NJ', 'PA', 'MN', 'KS', 'LA', 'OR', 'MD', 'AR',\n",
              "       'AZ', 'CO', 'MT', 'MA', 'NY', 'IL', 'TX', 'WA', 'KY', 'OH', 'WI',\n",
              "       'NC', 'CT', 'MI', 'SC', 'VA', 'WV', 'RI', 'AL', 'NV', 'MO', 'OK',\n",
              "       'UT', 'AK', 'HI', 'VT', 'NH', 'NM', 'SD', 'DE', 'DC', 'WY', 'MS',\n",
              "       'ID', 'TN', 'IN', 'ME', 'IA', 'NE', 'ND'], dtype=object)"
            ]
          },
          "metadata": {
            "tags": []
          },
          "execution_count": 4
        }
      ]
    },
    {
      "cell_type": "markdown",
      "metadata": {
        "id": "NVoCH0RaoGqg",
        "colab_type": "text"
      },
      "source": [
        "The labels of 'emp_length' are as follows."
      ]
    },
    {
      "cell_type": "code",
      "metadata": {
        "id": "Wq-XDFfVMiLV",
        "colab_type": "code",
        "colab": {
          "base_uri": "https://localhost:8080/",
          "height": 69
        },
        "outputId": "c460ada4-f588-4f0c-d693-b8699f6ded90"
      },
      "source": [
        "# List all labels of nominal feature 'emp_length'.\n",
        "lendingclub.emp_length.unique()"
      ],
      "execution_count": null,
      "outputs": [
        {
          "output_type": "execute_result",
          "data": {
            "text/plain": [
              "array(['< 1 year', '10+ years', '5 years', '9 years', '6 years',\n",
              "       '2 years', '3 years', '7 years', '8 years', '4 years', '1 year'],\n",
              "      dtype=object)"
            ]
          },
          "metadata": {
            "tags": []
          },
          "execution_count": 5
        }
      ]
    },
    {
      "cell_type": "markdown",
      "metadata": {
        "id": "xBuy2OpwoNdT",
        "colab_type": "text"
      },
      "source": [
        "Among the features, amount, fico, and dti are numerical values.\n",
        "\n",
        "Their count, mean, standard deviation, min, quantiles, and max values are as follows."
      ]
    },
    {
      "cell_type": "code",
      "metadata": {
        "id": "WH-0tAr6MUsY",
        "colab_type": "code",
        "colab": {
          "base_uri": "https://localhost:8080/",
          "height": 294
        },
        "outputId": "f83ca05d-bdda-45c5-a494-cbde46c82c3b"
      },
      "source": [
        "# List the count, std, quantile, min, mean, and max values of the numeric features 'amount', 'fico' and 'dti'.\n",
        "lendingclub[['amount', 'fico', 'dti']].describe()"
      ],
      "execution_count": null,
      "outputs": [
        {
          "output_type": "execute_result",
          "data": {
            "text/html": [
              "<div>\n",
              "<style scoped>\n",
              "    .dataframe tbody tr th:only-of-type {\n",
              "        vertical-align: middle;\n",
              "    }\n",
              "\n",
              "    .dataframe tbody tr th {\n",
              "        vertical-align: top;\n",
              "    }\n",
              "\n",
              "    .dataframe thead th {\n",
              "        text-align: right;\n",
              "    }\n",
              "</style>\n",
              "<table border=\"1\" class=\"dataframe\">\n",
              "  <thead>\n",
              "    <tr style=\"text-align: right;\">\n",
              "      <th></th>\n",
              "      <th>amount</th>\n",
              "      <th>fico</th>\n",
              "      <th>dti</th>\n",
              "    </tr>\n",
              "  </thead>\n",
              "  <tbody>\n",
              "    <tr>\n",
              "      <th>count</th>\n",
              "      <td>81103.000000</td>\n",
              "      <td>81103.000000</td>\n",
              "      <td>8.110300e+04</td>\n",
              "    </tr>\n",
              "    <tr>\n",
              "      <th>mean</th>\n",
              "      <td>12959.437855</td>\n",
              "      <td>603.010961</td>\n",
              "      <td>5.142695e+02</td>\n",
              "    </tr>\n",
              "    <tr>\n",
              "      <th>std</th>\n",
              "      <td>10315.880464</td>\n",
              "      <td>173.772811</td>\n",
              "      <td>1.700466e+04</td>\n",
              "    </tr>\n",
              "    <tr>\n",
              "      <th>min</th>\n",
              "      <td>500.000000</td>\n",
              "      <td>0.000000</td>\n",
              "      <td>-1.000000e+00</td>\n",
              "    </tr>\n",
              "    <tr>\n",
              "      <th>25%</th>\n",
              "      <td>5000.000000</td>\n",
              "      <td>585.000000</td>\n",
              "      <td>6.530000e+00</td>\n",
              "    </tr>\n",
              "    <tr>\n",
              "      <th>50%</th>\n",
              "      <td>10000.000000</td>\n",
              "      <td>653.000000</td>\n",
              "      <td>1.648000e+01</td>\n",
              "    </tr>\n",
              "    <tr>\n",
              "      <th>75%</th>\n",
              "      <td>20000.000000</td>\n",
              "      <td>691.000000</td>\n",
              "      <td>2.888000e+01</td>\n",
              "    </tr>\n",
              "    <tr>\n",
              "      <th>max</th>\n",
              "      <td>500000.000000</td>\n",
              "      <td>850.000000</td>\n",
              "      <td>3.418800e+06</td>\n",
              "    </tr>\n",
              "  </tbody>\n",
              "</table>\n",
              "</div>"
            ],
            "text/plain": [
              "              amount          fico           dti\n",
              "count   81103.000000  81103.000000  8.110300e+04\n",
              "mean    12959.437855    603.010961  5.142695e+02\n",
              "std     10315.880464    173.772811  1.700466e+04\n",
              "min       500.000000      0.000000 -1.000000e+00\n",
              "25%      5000.000000    585.000000  6.530000e+00\n",
              "50%     10000.000000    653.000000  1.648000e+01\n",
              "75%     20000.000000    691.000000  2.888000e+01\n",
              "max    500000.000000    850.000000  3.418800e+06"
            ]
          },
          "metadata": {
            "tags": []
          },
          "execution_count": 6
        }
      ]
    },
    {
      "cell_type": "markdown",
      "metadata": {
        "id": "TEoDo0xXovK_",
        "colab_type": "text"
      },
      "source": [
        "The list of hyperparameter settings for the decision tree are as follows:\n",
        "\n",
        "criterion: entropy. The purity criterion uses information gain to measure leaf purity.\n",
        "\n",
        "min_impurity_decrease: 0.0001. The purity threshold limits the size of the tree. Impurity 0.0001 is a measure of how homogenous any particular leaf of our tree is. It's set to be 0.0001 because a high purity threshold could  significantly hurts model's performance\n",
        "\n",
        "min_samples_split: 20. The minimum split size parameter adds a constraint that only allows the model to have more than 20-instance splits. This controls for the complexity of the tree and prevents the model from overfitting."
      ]
    },
    {
      "cell_type": "code",
      "metadata": {
        "id": "Z8-NXqH_eGzR",
        "colab_type": "code",
        "colab": {}
      },
      "source": [
        "# List the features from the data\n",
        "features = [\"amount\", \"fico\", \"dti\", \"state\", \"emp_length\"]\n",
        "\n",
        "# Prepare our dataset\n",
        "X = lendingclub.loc[:, features]\n",
        "X = pd.get_dummies(X)\n",
        "y = lendingclub[\"outcome\"]\n",
        "\n",
        "# Use scikit-learn to create train/test split and train the decision tree\n",
        "X_train, X_test, y_train, y_test = train_test_split(X,y,test_size=0.20, random_state=123)\n",
        "model = DecisionTreeClassifier(criterion=\"entropy\", min_impurity_decrease=0.0001, min_samples_split=20, random_state=123).fit(X_train, y_train)\n",
        "train_pred = model.predict(X_train)\n",
        "test_pred = model.predict(X_test)"
      ],
      "execution_count": null,
      "outputs": []
    },
    {
      "cell_type": "markdown",
      "metadata": {
        "id": "lUtSHm2spGLP",
        "colab_type": "text"
      },
      "source": [
        "This part evaluates the performance of the trained classifier, using metrics including accuracy, kappa, precision, and recall. \n",
        "\n",
        "Accuracy measures the number of accurate predictions. While the accuracy on the train set is 96.1%, the accuracy on the test set is 95.9%. This shows that the model has a relatively high accuracy.\n",
        "\n",
        "Cohen's Kappa measures accuracy after accounting for chance. While the Cohen's Kappa on the train set is 0.804, it is 0.797 on the test set. This shows that even after accounting for chance, the model has a relatively high accuracy.\n",
        "\n",
        "Prediction measures the successful predictions among the predicted positives. Recall measures the successful predictions among the actual positives. While the precision score is 0.835, recall score is 0.804, meaning that there is a balance between precision and recall of the model.\n",
        "\n",
        "The labeled confusion matrix is provided. Confusion matrix is a contingency table that visualizes the correct and wrong predictions. From the table we could see that there are 15556 correct cases and 663 wrong cases. Among the correct cases, 14050 are 'accept' and 1506 are 'reject'."
      ]
    },
    {
      "cell_type": "code",
      "metadata": {
        "id": "ko2QBWi1pHQR",
        "colab_type": "code",
        "colab": {
          "base_uri": "https://localhost:8080/",
          "height": 119
        },
        "outputId": "ac3c2470-839c-41b6-df2b-8e94921a0878"
      },
      "source": [
        "# Calculate and display accuracy on the train and test sets\n",
        "train_accuracy = 100*accuracy_score(y_train, train_pred)\n",
        "test_accuracy = 100*accuracy_score(y_test, test_pred)\n",
        "print(f\"Accuracy on the train set: {train_accuracy:.1f}\")\n",
        "print(f\"Accuracy on the test set: {test_accuracy:.1f}\")\n",
        "\n",
        "# Calculate and display Cohen's Kappa on the train and test sets\n",
        "train_kappa = cohen_kappa_score(y_train, train_pred)\n",
        "test_kappa = cohen_kappa_score(y_test, test_pred)\n",
        "print(f\"Cohen's Kappa on the train set: {train_kappa:.3f}\")\n",
        "print(f\"Cohen's Kappa on the test set: {test_kappa:.3f}\")\n",
        "\n",
        "# Compute Precision and Recall Manually\n",
        "# Compute number of predictions, number of correct predictions, and number of total positives\n",
        "predictions = test_pred\n",
        "actual = np.array(list(y_test))\n",
        "predicted_positives = (predictions == \"accept\").sum()\n",
        "actual_positives = (actual == \"accept\").sum()\n",
        "successful_predictions = 0\n",
        "\n",
        "for i in range(len(predictions)):\n",
        "    if predictions[i] == \"accept\" and actual[i] == \"accept\":\n",
        "        successful_predictions += 1\n",
        "\n",
        "# Compute Precision Manually\n",
        "precision = successful_predictions / predicted_positives\n",
        "print(f\"Precision: {precision:.3f}\")\n",
        "\n",
        "# Compute Recall Manually\n",
        "recall = successful_predictions / actual_positives\n",
        "print(f\"Recall: {recall:.3f}\")"
      ],
      "execution_count": null,
      "outputs": [
        {
          "output_type": "stream",
          "text": [
            "Accuracy on the train set: 96.1\n",
            "Accuracy on the test set: 95.9\n",
            "Cohen's Kappa on the train set: 0.804\n",
            "Cohen's Kappa on the test set: 0.797\n",
            "Precision: 0.835\n",
            "Recall: 0.804\n"
          ],
          "name": "stdout"
        }
      ]
    },
    {
      "cell_type": "code",
      "metadata": {
        "id": "DsxNUf1aq_G3",
        "colab_type": "code",
        "colab": {
          "base_uri": "https://localhost:8080/",
          "height": 283
        },
        "outputId": "e68a7aa6-e331-4ccc-b741-a4d8dff8d3ae"
      },
      "source": [
        "# Generate confusion matrix with scikit-learn\n",
        "conf_matrix = confusion_matrix(actual, predictions)\n",
        "ConfusionMatrixDisplay(conf_matrix, [\"accept\", \"reject\"]).plot(values_format='.4g')\n",
        "plt.show()"
      ],
      "execution_count": null,
      "outputs": [
        {
          "output_type": "display_data",
          "data": {
            "image/png": "[encoded data removed]",
            "text/plain": [
              "<Figure size 432x288 with 2 Axes>"
            ]
          },
          "metadata": {
            "tags": []
          }
        }
      ]
    },
    {
      "cell_type": "markdown",
      "metadata": {
        "id": "_xOhCWobzfhb",
        "colab_type": "text"
      },
      "source": [
        "# Question 3: \n",
        "\n",
        "Is the decision tree that you trained accurate enough to be used for each of the two business purposes you proposed in question 1? Why or why not?"
      ]
    },
    {
      "cell_type": "markdown",
      "metadata": {
        "id": "gnC28G-UznQN",
        "colab_type": "text"
      },
      "source": [
        "The decision tree could be used to facilitate the business purposes I proposed in question 1. Its accuracy rate is more than 95%, its Cohen's Kappa is around 80%, while its precision and recall rate are more than 80%. Therefore we can be sure that the model will be correct in the majority of times. However, given the 80% recall rate, it is still very likely for the decision tree to wrongly categorize a borrower as \"rejected\" when he/she actually will be accepted. This will lead to serious consequences if the app filters borrowers' loan requests purely based on the prediction of decision tree, because the app is likely to turn down potential qualified borrowers. Meanwhile, given the 84% precision rate, it is also possible for LendingClub to waste its resources on borrowers who should've been rejected. \n",
        "\n",
        "Therefore, while LendingClub can certainly use the decision tree to facilitate the business purposes I mentioned, the company should also closely monitor the prediction results, observe and manually decide on the suspected cases, as well as correct the mistakes. "
      ]
    },
    {
      "cell_type": "markdown",
      "metadata": {
        "id": "soeXJaORzqzH",
        "colab_type": "text"
      },
      "source": [
        "# Scoring Rubric\n",
        "![alt text](https://docs.google.com/uc?export=view&id=1ELG4QWnPjWgiUJI0eL6YiVbMWKlSVdcP)\n"
      ]
    }
  ]
}