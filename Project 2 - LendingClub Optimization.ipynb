{
  "nbformat": 4,
  "nbformat_minor": 0,
  "metadata": {
    "colab": {
      "name": "Homework_2_Yunxin.ipynb",
      "provenance": [],
      "collapsed_sections": [],
      "include_colab_link": true
    },
    "kernelspec": {
      "name": "python3",
      "display_name": "Python 3"
    }
  },
  "cells": [
    {
      "cell_type": "markdown",
      "metadata": {
        "id": "view-in-github",
        "colab_type": "text"
      },
      "source": [
        "<a href=\"https://colab.research.google.com/github/karenyxwang/Machine_Learning/blob/master/Project%202%20-%20LendingClub%20Optimization.ipynb\" target=\"_parent\"><img src=\"https://colab.research.google.com/assets/colab-badge.svg\" alt=\"Open In Colab\"/></a>"
      ]
    },
    {
      "cell_type": "markdown",
      "metadata": {
        "id": "QzFBHtFHRBkH",
        "colab_type": "text"
      },
      "source": [
        "# Download the Data \n",
        "Keep this if you are working in Google Colab. Delete this if you are working on your own computer and have the data downloaded already. "
      ]
    },
    {
      "cell_type": "code",
      "metadata": {
        "id": "gD8xgRYrRAV3",
        "colab_type": "code",
        "colab": {
          "base_uri": "https://localhost:8080/",
          "height": 326
        },
        "outputId": "234ad5ab-748d-4207-ea6d-7d75dc1ab259"
      },
      "source": [
        "!wget --no-check-certificate 'https://docs.google.com/uc?export=download&id=0B5qTk6DHjanhOV9LRE5DY3l1T2pGemVBNTVQVzVsMlFCcHF3' -O lendingclub.csv"
      ],
      "execution_count": null,
      "outputs": [
        {
          "output_type": "stream",
          "text": [
            "--2020-02-10 03:34:04--  https://docs.google.com/uc?export=download&id=0B5qTk6DHjanhOV9LRE5DY3l1T2pGemVBNTVQVzVsMlFCcHF3\n",
            "Resolving docs.google.com (docs.google.com)... 172.217.214.113, 172.217.214.102, 172.217.214.138, ...\n",
            "Connecting to docs.google.com (docs.google.com)|172.217.214.113|:443... connected.\n",
            "HTTP request sent, awaiting response... 302 Moved Temporarily\n",
            "Location: https://doc-10-5c-docs.googleusercontent.com/docs/securesc/ha0ro937gcuc7l7deffksulhg5h7mbp1/f572fqpvfs1980r71ajirnfln3c45bgf/1581305400000/09819396713149841370/*/0B5qTk6DHjanhOV9LRE5DY3l1T2pGemVBNTVQVzVsMlFCcHF3?e=download [following]\n",
            "Warning: wildcards not supported in HTTP.\n",
            "--2020-02-10 03:34:04--  https://doc-10-5c-docs.googleusercontent.com/docs/securesc/ha0ro937gcuc7l7deffksulhg5h7mbp1/f572fqpvfs1980r71ajirnfln3c45bgf/1581305400000/09819396713149841370/*/0B5qTk6DHjanhOV9LRE5DY3l1T2pGemVBNTVQVzVsMlFCcHF3?e=download\n",
            "Resolving doc-10-5c-docs.googleusercontent.com (doc-10-5c-docs.googleusercontent.com)... 172.217.214.132, 2607:f8b0:4001:c05::84\n",
            "Connecting to doc-10-5c-docs.googleusercontent.com (doc-10-5c-docs.googleusercontent.com)|172.217.214.132|:443... connected.\n",
            "HTTP request sent, awaiting response... 200 OK\n",
            "Length: unspecified [text/csv]\n",
            "Saving to: ‘lendingclub.csv’\n",
            "\n",
            "lendingclub.csv         [ <=>                ]   6.03M  --.-KB/s    in 0.02s   \n",
            "\n",
            "2020-02-10 03:34:05 (267 MB/s) - ‘lendingclub.csv’ saved [6325329]\n",
            "\n"
          ],
          "name": "stdout"
        }
      ]
    },
    {
      "cell_type": "markdown",
      "metadata": {
        "id": "1-M5G2ryQRSe",
        "colab_type": "text"
      },
      "source": [
        "# Homework 2 (Due February 9, 2020)\n",
        "Last week you trained a machine learning classifier to predict borrower success rates on LendingClub.com, using a set of features that were already present in the dataset. This week you will spend time optimizing that model.\n",
        "\n",
        "Feel free to reuse code from your first homework submission; this does not need to be done from scratch.\n",
        "\n",
        "# Question 1\n",
        "\n",
        "Choose **ONE** of the following three options:\n",
        "\n",
        "   - The `state` column is currently broken into 51 distinct values. Create a new feature, `region`, that groups similar states together.\n",
        "   - The `emp_length` column is currently a nominal value. Create a new feature, `emp_length_numeric`, that treats the variable as a numeric value instead.\n",
        "   - The `title` column is a free-form string and is currently hard or impossible to use as a feature. Define one or more features that capture information about the type of loan being applied for, based on the contents of the title.\n",
        "\n",
        "For the option you have chosen, compare how switching to your new feature in a decision tree model improves or worsens performance compared to using the original representation. Report your quantitative results along with an explanation of your new feature's possible values."
      ]
    },
    {
      "cell_type": "code",
      "metadata": {
        "id": "sN6W49dCdBUw",
        "colab_type": "code",
        "colab": {
          "base_uri": "https://localhost:8080/",
          "height": 419
        },
        "outputId": "44be15be-0c10-4693-d529-1fc4f06f8c78"
      },
      "source": [
        "import pandas as pd\n",
        "import numpy as np\n",
        "from sklearn import tree\n",
        "import matplotlib.pyplot as plt\n",
        "from sklearn.model_selection import train_test_split\n",
        "from sklearn.tree import DecisionTreeClassifier\n",
        "from sklearn.metrics import accuracy_score, precision_score, recall_score, cohen_kappa_score, confusion_matrix, ConfusionMatrixDisplay\n",
        "from sklearn.model_selection import train_test_split, KFold, StratifiedKFold, GroupKFold, GridSearchCV\n",
        "from sklearn.linear_model import LogisticRegression\n",
        "\n",
        "lendingclub = pd.read_csv(\"lendingclub.csv\")\n",
        "lendingclub"
      ],
      "execution_count": null,
      "outputs": [
        {
          "output_type": "execute_result",
          "data": {
            "text/html": [
              "<div>\n",
              "<style scoped>\n",
              "    .dataframe tbody tr th:only-of-type {\n",
              "        vertical-align: middle;\n",
              "    }\n",
              "\n",
              "    .dataframe tbody tr th {\n",
              "        vertical-align: top;\n",
              "    }\n",
              "\n",
              "    .dataframe thead th {\n",
              "        text-align: right;\n",
              "    }\n",
              "</style>\n",
              "<table border=\"1\" class=\"dataframe\">\n",
              "  <thead>\n",
              "    <tr style=\"text-align: right;\">\n",
              "      <th></th>\n",
              "      <th>amount</th>\n",
              "      <th>date</th>\n",
              "      <th>title</th>\n",
              "      <th>fico</th>\n",
              "      <th>dti</th>\n",
              "      <th>zip</th>\n",
              "      <th>state</th>\n",
              "      <th>emp_length</th>\n",
              "      <th>policy_code</th>\n",
              "      <th>year</th>\n",
              "      <th>outcome</th>\n",
              "    </tr>\n",
              "  </thead>\n",
              "  <tbody>\n",
              "    <tr>\n",
              "      <th>0</th>\n",
              "      <td>2500.0</td>\n",
              "      <td>Dec-2011</td>\n",
              "      <td>bike</td>\n",
              "      <td>740.0</td>\n",
              "      <td>1.00</td>\n",
              "      <td>309xx</td>\n",
              "      <td>GA</td>\n",
              "      <td>&lt; 1 year</td>\n",
              "      <td>1.0</td>\n",
              "      <td>2011</td>\n",
              "      <td>accept</td>\n",
              "    </tr>\n",
              "    <tr>\n",
              "      <th>1</th>\n",
              "      <td>12000.0</td>\n",
              "      <td>Dec-2011</td>\n",
              "      <td>Consolidation</td>\n",
              "      <td>675.0</td>\n",
              "      <td>10.78</td>\n",
              "      <td>913xx</td>\n",
              "      <td>CA</td>\n",
              "      <td>10+ years</td>\n",
              "      <td>1.0</td>\n",
              "      <td>2011</td>\n",
              "      <td>accept</td>\n",
              "    </tr>\n",
              "    <tr>\n",
              "      <th>2</th>\n",
              "      <td>21000.0</td>\n",
              "      <td>Dec-2011</td>\n",
              "      <td>Debt Cleanup</td>\n",
              "      <td>705.0</td>\n",
              "      <td>13.22</td>\n",
              "      <td>335xx</td>\n",
              "      <td>FL</td>\n",
              "      <td>10+ years</td>\n",
              "      <td>1.0</td>\n",
              "      <td>2011</td>\n",
              "      <td>accept</td>\n",
              "    </tr>\n",
              "    <tr>\n",
              "      <th>3</th>\n",
              "      <td>31825.0</td>\n",
              "      <td>Dec-2011</td>\n",
              "      <td>Debt Consolidation Loan</td>\n",
              "      <td>760.0</td>\n",
              "      <td>14.03</td>\n",
              "      <td>080xx</td>\n",
              "      <td>NJ</td>\n",
              "      <td>5 years</td>\n",
              "      <td>1.0</td>\n",
              "      <td>2011</td>\n",
              "      <td>accept</td>\n",
              "    </tr>\n",
              "    <tr>\n",
              "      <th>4</th>\n",
              "      <td>12000.0</td>\n",
              "      <td>Dec-2011</td>\n",
              "      <td>Debt Consolidation</td>\n",
              "      <td>725.0</td>\n",
              "      <td>16.70</td>\n",
              "      <td>088xx</td>\n",
              "      <td>NJ</td>\n",
              "      <td>10+ years</td>\n",
              "      <td>1.0</td>\n",
              "      <td>2011</td>\n",
              "      <td>accept</td>\n",
              "    </tr>\n",
              "    <tr>\n",
              "      <th>...</th>\n",
              "      <td>...</td>\n",
              "      <td>...</td>\n",
              "      <td>...</td>\n",
              "      <td>...</td>\n",
              "      <td>...</td>\n",
              "      <td>...</td>\n",
              "      <td>...</td>\n",
              "      <td>...</td>\n",
              "      <td>...</td>\n",
              "      <td>...</td>\n",
              "      <td>...</td>\n",
              "    </tr>\n",
              "    <tr>\n",
              "      <th>81098</th>\n",
              "      <td>2000.0</td>\n",
              "      <td>2012-12-31</td>\n",
              "      <td>other</td>\n",
              "      <td>615.0</td>\n",
              "      <td>56.33</td>\n",
              "      <td>365xx</td>\n",
              "      <td>AL</td>\n",
              "      <td>&lt; 1 year</td>\n",
              "      <td>0.0</td>\n",
              "      <td>2012</td>\n",
              "      <td>reject</td>\n",
              "    </tr>\n",
              "    <tr>\n",
              "      <th>81099</th>\n",
              "      <td>2000.0</td>\n",
              "      <td>2012-12-31</td>\n",
              "      <td>car</td>\n",
              "      <td>572.0</td>\n",
              "      <td>16.90</td>\n",
              "      <td>363xx</td>\n",
              "      <td>AL</td>\n",
              "      <td>&lt; 1 year</td>\n",
              "      <td>0.0</td>\n",
              "      <td>2012</td>\n",
              "      <td>reject</td>\n",
              "    </tr>\n",
              "    <tr>\n",
              "      <th>81100</th>\n",
              "      <td>35000.0</td>\n",
              "      <td>2012-12-31</td>\n",
              "      <td>debt_consolidation</td>\n",
              "      <td>556.0</td>\n",
              "      <td>21.44</td>\n",
              "      <td>347xx</td>\n",
              "      <td>FL</td>\n",
              "      <td>&lt; 1 year</td>\n",
              "      <td>0.0</td>\n",
              "      <td>2012</td>\n",
              "      <td>reject</td>\n",
              "    </tr>\n",
              "    <tr>\n",
              "      <th>81101</th>\n",
              "      <td>25000.0</td>\n",
              "      <td>2012-12-31</td>\n",
              "      <td>other</td>\n",
              "      <td>506.0</td>\n",
              "      <td>12.99</td>\n",
              "      <td>404xx</td>\n",
              "      <td>KY</td>\n",
              "      <td>&lt; 1 year</td>\n",
              "      <td>0.0</td>\n",
              "      <td>2012</td>\n",
              "      <td>reject</td>\n",
              "    </tr>\n",
              "    <tr>\n",
              "      <th>81102</th>\n",
              "      <td>35000.0</td>\n",
              "      <td>2012-12-31</td>\n",
              "      <td>other</td>\n",
              "      <td>597.0</td>\n",
              "      <td>4.13</td>\n",
              "      <td>211xx</td>\n",
              "      <td>MD</td>\n",
              "      <td>&lt; 1 year</td>\n",
              "      <td>0.0</td>\n",
              "      <td>2012</td>\n",
              "      <td>reject</td>\n",
              "    </tr>\n",
              "  </tbody>\n",
              "</table>\n",
              "<p>81103 rows × 11 columns</p>\n",
              "</div>"
            ],
            "text/plain": [
              "        amount        date                    title  ...  policy_code  year outcome\n",
              "0       2500.0    Dec-2011                     bike  ...          1.0  2011  accept\n",
              "1      12000.0    Dec-2011            Consolidation  ...          1.0  2011  accept\n",
              "2      21000.0    Dec-2011             Debt Cleanup  ...          1.0  2011  accept\n",
              "3      31825.0    Dec-2011  Debt Consolidation Loan  ...          1.0  2011  accept\n",
              "4      12000.0    Dec-2011       Debt Consolidation  ...          1.0  2011  accept\n",
              "...        ...         ...                      ...  ...          ...   ...     ...\n",
              "81098   2000.0  2012-12-31                    other  ...          0.0  2012  reject\n",
              "81099   2000.0  2012-12-31                      car  ...          0.0  2012  reject\n",
              "81100  35000.0  2012-12-31       debt_consolidation  ...          0.0  2012  reject\n",
              "81101  25000.0  2012-12-31                    other  ...          0.0  2012  reject\n",
              "81102  35000.0  2012-12-31                    other  ...          0.0  2012  reject\n",
              "\n",
              "[81103 rows x 11 columns]"
            ]
          },
          "metadata": {
            "tags": []
          },
          "execution_count": 2
        }
      ]
    },
    {
      "cell_type": "markdown",
      "metadata": {
        "id": "Xhe86kjn2634",
        "colab_type": "text"
      },
      "source": [
        "The original model is as follows.\n",
        "\n",
        "Its features include amount (amount requested for their first loan), fico (credit rating of the borrower), dti (ratio of the borrower’s total monthly debt payments), state (U.S. state that the borrower resides in), and emp_length (length of time that the borrower has been employed at their current job). Among the features, 'state' and 'emp_length' are nominal values, and the rest are numerical values.\n",
        "\n",
        "The accuracy of the original model on the train set is 96.1, on the test set is 95.9."
      ]
    },
    {
      "cell_type": "code",
      "metadata": {
        "id": "H-zaywVX1Upv",
        "colab_type": "code",
        "colab": {
          "base_uri": "https://localhost:8080/",
          "height": 51
        },
        "outputId": "e43cace0-9b82-4c6a-a422-89aee7d41f2b"
      },
      "source": [
        "# List the features from the data\n",
        "features = [\"amount\", \"fico\", \"dti\", \"state\", \"emp_length\"]\n",
        "\n",
        "# Prepare our dataset\n",
        "X = lendingclub.loc[:, features]\n",
        "X = pd.get_dummies(X)\n",
        "y = lendingclub[\"outcome\"]\n",
        "\n",
        "# Use scikit-learn to create train/test split and train the decision tree\n",
        "X_train, X_test, y_train, y_test = train_test_split(X,y,test_size=0.20, random_state=123)\n",
        "model = DecisionTreeClassifier(criterion=\"entropy\", min_impurity_decrease=0.0001, min_samples_split=20, random_state=123).fit(X_train, y_train)\n",
        "train_pred = model.predict(X_train)\n",
        "test_pred = model.predict(X_test)\n",
        "\n",
        "# Calculate and display accuracy on the train and test sets\n",
        "train_accuracy = 100*accuracy_score(y_train, train_pred)\n",
        "test_accuracy = 100*accuracy_score(y_test, test_pred)\n",
        "print(f\"Accuracy on the train set: {train_accuracy:.1f}\")\n",
        "print(f\"Accuracy on the test set: {test_accuracy:.1f}\")"
      ],
      "execution_count": null,
      "outputs": [
        {
          "output_type": "stream",
          "text": [
            "Accuracy on the train set: 96.1\n",
            "Accuracy on the test set: 95.9\n"
          ],
          "name": "stdout"
        }
      ]
    },
    {
      "cell_type": "markdown",
      "metadata": {
        "id": "07vTIBdG25Gt",
        "colab_type": "text"
      },
      "source": [
        "The new column, region, is created to divide states into 5 regions based on their GDP in 2018. The classification method is quantile.\n",
        "\n",
        "States with GDP in the top 20 percentile include CA, TX, NY, FL, IL, PA, OH, NJ, GA, MA, WA.\n",
        "\n",
        "States with GDP in the 20-40 percentile include NC, VA, MI, MD, CO, MN, IN, TN, AZ, WI.\n",
        "\n",
        "States with GDP in the 40-60 percentile include MO, CT, LA, OR, SC, AL, KY, OK, IA, UT.\n",
        "\n",
        "States with GDP in the 60-80 percentile include NV, KS, DC, AR, NE, MS, NM, HI, NH, WV.\n",
        "\n",
        "States with GDP in the last 20 percentile include ID, DE, ME, RI, ND, AK, SD, MT, WY, VT.\n",
        "\n",
        "The new model replaces the 'state' feature in the old model with 'region'. The rest remains the same.\n",
        "\n",
        "The accuracy of the new model on the train set is 96.1, on the test set is 95.9. The model performance stayed the same."
      ]
    },
    {
      "cell_type": "code",
      "metadata": {
        "id": "jfiatYYZTQMw",
        "colab_type": "code",
        "colab": {
          "base_uri": "https://localhost:8080/",
          "height": 51
        },
        "outputId": "50f9c1f1-3056-47f6-9e28-3a1d44c82e52"
      },
      "source": [
        "# Create function for creating new column, region\n",
        "def region_column(row):\n",
        "    if row['state'] in (['CA', 'TX', 'NY', 'FL', 'IL', 'PA', 'OH', 'NJ', 'GA', 'MA', 'WA']):\n",
        "        val = \"gdp_20_percentile\"\n",
        "    elif row['state'] in (['NC', 'VA', 'MI', 'MD', 'CO', 'MN', 'IN', 'TN', 'AZ', 'WI']):\n",
        "        val = \"gdp_40_percentile\"\n",
        "    elif row['state'] in (['MO', 'CT', 'LA', 'OR', 'SC', 'AL', 'KY', 'OK', 'IA', 'UT']):\n",
        "        val = \"gdp_60_percentile\"\n",
        "    elif row['state'] in (['NV', 'KS', 'DC', 'AR', 'NE', 'MS', 'NM', 'HI', 'NH', 'WV']):\n",
        "        val = \"gdp_80_percentile\"\n",
        "    elif row['state'] in (['ID', 'DE', 'ME', 'RI', 'ND', 'AK', 'SD', 'MT', 'WY', 'VT']):\n",
        "        val = \"gdp_100_percentile\"\n",
        "    return val\n",
        "\n",
        "# Create new column, region\n",
        "lendingclub['region'] = lendingclub.apply(region_column, axis=1)\n",
        "\n",
        "# List the features from the data\n",
        "features = [\"amount\", \"fico\", \"dti\", \"region\", \"emp_length\"]\n",
        "\n",
        "# Prepare our dataset\n",
        "X = lendingclub.loc[:, features]\n",
        "X = pd.get_dummies(X)\n",
        "y = lendingclub[\"outcome\"]\n",
        "\n",
        "# Use scikit-learn to create train/test split and train the decision tree\n",
        "X_train, X_test, y_train, y_test = train_test_split(X,y,test_size=0.20, random_state=123)\n",
        "model = DecisionTreeClassifier(criterion=\"entropy\", min_impurity_decrease=0.0001, min_samples_split=20, random_state=123).fit(X_train, y_train)\n",
        "train_pred = model.predict(X_train)\n",
        "test_pred = model.predict(X_test)\n",
        "\n",
        "# Calculate and display accuracy on the train and test sets\n",
        "train_accuracy = 100*accuracy_score(y_train, train_pred)\n",
        "test_accuracy = 100*accuracy_score(y_test, test_pred)\n",
        "print(f\"Accuracy on the train set: {train_accuracy:.1f}\")\n",
        "print(f\"Accuracy on the test set: {test_accuracy:.1f}\")"
      ],
      "execution_count": null,
      "outputs": [
        {
          "output_type": "stream",
          "text": [
            "Accuracy on the train set: 96.1\n",
            "Accuracy on the test set: 95.9\n"
          ],
          "name": "stdout"
        }
      ]
    },
    {
      "cell_type": "markdown",
      "metadata": {
        "id": "DT4rTebQi-Zy",
        "colab_type": "text"
      },
      "source": [
        "The new column, emp_length_numeric, is created to transform the emp_length column from nominal value to numeric value.\n",
        "\n",
        "The values in the new column, emp_length_numeric, include [0.5, 1, 2, 3, 4, 5, 6, 7, 8, 9, 10], which respectively replaced ['< 1 year', '1 year', '2 years', '3 years', '4 years', '5 years', '6 years', '7 years', '8 years', '9 years', '10+ years'] in the old column, emp_length.\n",
        "\n",
        "The new model replaces the 'emp_length' feature in the old model with 'emp_length_numeric'. The rest remains the same.\n",
        "\n",
        "The accuracy of the new model on the train set is 95.8, on the test set is 95.6. The model performance dropped slightly.\n",
        "\n"
      ]
    },
    {
      "cell_type": "code",
      "metadata": {
        "id": "rd-ydN8eNJxJ",
        "colab_type": "code",
        "colab": {
          "base_uri": "https://localhost:8080/",
          "height": 51
        },
        "outputId": "942aebfb-b77c-46c3-833e-f6e19130f27b"
      },
      "source": [
        "# Create function for creating new column, emp_length_numeric\n",
        "def emp_length_numeric_column(row):\n",
        "    if row['emp_length'] == '< 1 year':\n",
        "        val = 0.5\n",
        "    elif row['emp_length'] == '1 year':\n",
        "        val = 1\n",
        "    elif row['emp_length'] == '2 years':\n",
        "        val = 2\n",
        "    elif row['emp_length'] == '3 years':\n",
        "        val = 3\n",
        "    elif row['emp_length'] == '4 years':\n",
        "        val = 4\n",
        "    elif row['emp_length'] == '5 years':\n",
        "        val = 5\n",
        "    elif row['emp_length'] == '6 years':\n",
        "        val = 6\n",
        "    elif row['emp_length'] == '7 years':\n",
        "        val = 7\n",
        "    elif row['emp_length'] == '8 years':\n",
        "        val = 8\n",
        "    elif row['emp_length'] == '9 years':\n",
        "        val = 9\n",
        "    elif row['emp_length'] == '10+ years':\n",
        "        val = 10\n",
        "    return val\n",
        "\n",
        "# Creating new column emp_length_numeric\n",
        "lendingclub['emp_length_numeric'] = lendingclub.apply(emp_length_numeric_column, axis=1)\n",
        "\n",
        "# List the features from the data\n",
        "features = [\"amount\", \"fico\", \"dti\", \"state\", \"emp_length_numeric\"]\n",
        "\n",
        "# Prepare our dataset\n",
        "X = lendingclub.loc[:, features]\n",
        "X = pd.get_dummies(X)\n",
        "y = lendingclub[\"outcome\"]\n",
        "\n",
        "# Use scikit-learn to create train/test split and train the decision tree\n",
        "X_train, X_test, y_train, y_test = train_test_split(X,y,test_size=0.20, random_state=123)\n",
        "model = DecisionTreeClassifier(criterion=\"entropy\", min_impurity_decrease=0.0001, min_samples_split=20, random_state=123).fit(X_train, y_train)\n",
        "train_pred = model.predict(X_train)\n",
        "test_pred = model.predict(X_test)\n",
        "\n",
        "# Calculate and display accuracy on the train and test sets\n",
        "train_accuracy = 100*accuracy_score(y_train, train_pred)\n",
        "test_accuracy = 100*accuracy_score(y_test, test_pred)\n",
        "print(f\"Accuracy on the train set: {train_accuracy:.1f}\")\n",
        "print(f\"Accuracy on the test set: {test_accuracy:.1f}\")"
      ],
      "execution_count": null,
      "outputs": [
        {
          "output_type": "stream",
          "text": [
            "Accuracy on the train set: 95.8\n",
            "Accuracy on the test set: 95.6\n"
          ],
          "name": "stdout"
        }
      ]
    },
    {
      "cell_type": "markdown",
      "metadata": {
        "id": "hcEdh46SlJp7",
        "colab_type": "text"
      },
      "source": [
        "The new column, title_length, is created to measure the length of the titles. The rationale is that the longer the title, the more it shows that the loan borrower is more serious about his/her loan and is willing to explain the loan usage in detail.\n",
        "\n",
        "The value of the new column varies from a mininum of 1 to a maximum of 908. However, the majority of the lengths of titles (75%) was below 18 words. The mean is 13.5, meaning that, on average, loan borrowers are willing to use 13-14 words to describe their purpose."
      ]
    },
    {
      "cell_type": "code",
      "metadata": {
        "id": "SriX-h0zWzN6",
        "colab_type": "code",
        "colab": {
          "base_uri": "https://localhost:8080/",
          "height": 170
        },
        "outputId": "157c2f06-d1c7-450f-d9e9-920a5fab9f02"
      },
      "source": [
        "# Create function for creating new column, title_length\n",
        "def title_length_column(row):\n",
        "    val = len(row['title'])\n",
        "    return val\n",
        "\n",
        "# Create new column, title length, and describe the column\n",
        "lendingclub['title_length'] = lendingclub.apply(title_length_column, axis=1)\n",
        "lendingclub['title_length'].describe()"
      ],
      "execution_count": null,
      "outputs": [
        {
          "output_type": "execute_result",
          "data": {
            "text/plain": [
              "count    81103.000000\n",
              "mean        13.505123\n",
              "std          8.979191\n",
              "min          1.000000\n",
              "25%          7.000000\n",
              "50%         14.000000\n",
              "75%         18.000000\n",
              "max        908.000000\n",
              "Name: title_length, dtype: float64"
            ]
          },
          "metadata": {
            "tags": []
          },
          "execution_count": 6
        }
      ]
    },
    {
      "cell_type": "markdown",
      "metadata": {
        "id": "_rN8gK7Tmf09",
        "colab_type": "text"
      },
      "source": [
        "The new model adds the feature 'title_length'. The rest remains the same.\n",
        "\n",
        "The accuracy of the new model on the train set is 96.1, on the test set is 95.9. The model performance stayed the same with the original model."
      ]
    },
    {
      "cell_type": "code",
      "metadata": {
        "id": "1NvQQOILlxpv",
        "colab_type": "code",
        "colab": {
          "base_uri": "https://localhost:8080/",
          "height": 51
        },
        "outputId": "d05d6bef-5233-4552-af61-9197a811bc5c"
      },
      "source": [
        "# List the features from the data\n",
        "features = ['title_length', \"amount\", \"fico\", \"dti\", \"state\", \"emp_length\"]\n",
        "\n",
        "# Prepare our dataset\n",
        "X = lendingclub.loc[:, features]\n",
        "X = pd.get_dummies(X)\n",
        "y = lendingclub[\"outcome\"]\n",
        "\n",
        "# Use scikit-learn to create train/test split and train the decision tree\n",
        "X_train, X_test, y_train, y_test = train_test_split(X,y,test_size=0.20, random_state=123)\n",
        "model = DecisionTreeClassifier(criterion=\"entropy\", min_impurity_decrease=0.0001, min_samples_split=20, random_state=123).fit(X_train, y_train)\n",
        "train_pred = model.predict(X_train)\n",
        "test_pred = model.predict(X_test)\n",
        "\n",
        "# Calculate and display accuracy on the train and test sets\n",
        "train_accuracy = 100*accuracy_score(y_train, train_pred)\n",
        "test_accuracy = 100*accuracy_score(y_test, test_pred)\n",
        "print(f\"Accuracy on the train set: {train_accuracy:.1f}\")\n",
        "print(f\"Accuracy on the test set: {test_accuracy:.1f}\")"
      ],
      "execution_count": null,
      "outputs": [
        {
          "output_type": "stream",
          "text": [
            "Accuracy on the train set: 96.1\n",
            "Accuracy on the test set: 95.9\n"
          ],
          "name": "stdout"
        }
      ]
    },
    {
      "cell_type": "markdown",
      "metadata": {
        "id": "B2ZEWAqydB47",
        "colab_type": "text"
      },
      "source": [
        "# Question 2\n",
        "\n",
        "Choose **THREE** of the following five options:\n",
        "1. Amount of data available for training.\n",
        "2. Subset of features included in the model.\n",
        "3. Decision tree vs. logistic regression classification.\n",
        "4. Hyperparameter tuning for the best-performing model from option 3.\n",
        "5. Number of folds or stratification strategy for cross-validation.\n",
        "\n",
        "For each option you choose, write code to see how much impact that option has on model performance. For instance, you might choose to measure prediction accuracy as the amount of available data is increased from 1% of the total training set to 100%.\n",
        "\n",
        "Note that for logistic regression classification, the default decision boundary may not produce the best model; you will likely want to check different decision boundaries if you choose options 3 and 4.\n",
        "\n",
        "Rank the three options you chose from the greatest impact on model performance to the least impact. Justify your ranking, based on specific quantitative experimental evidence."
      ]
    },
    {
      "cell_type": "markdown",
      "metadata": {
        "id": "bZWjqthztOFT",
        "colab_type": "text"
      },
      "source": [
        "**I did question 3 and 4 for extra credit. If there are too many mistakes for these two questions. Please prioritize question 1, 2, 5 when grading.**\n",
        "\n",
        "1.Amount of data available for training:\n",
        "\n",
        "In this part I adjusted the size of the lendingclub dataset and calculated how model accuracy varies with different sized data sets. The results show that testing accuracy increases, from as low as 87.38 to as high as more than 96, as the size of the dataset increases from 0 to 80000."
      ]
    },
    {
      "cell_type": "code",
      "metadata": {
        "id": "0wiABad_lYJb",
        "colab_type": "code",
        "colab": {
          "base_uri": "https://localhost:8080/",
          "height": 419
        },
        "outputId": "999a46ab-c5ae-4452-d52e-05f302cdbd19"
      },
      "source": [
        "size = []\n",
        "train_accuracies = []\n",
        "test_accuracies = []\n",
        "accuracies_table = pd.DataFrame()\n",
        "\n",
        "# Select features\n",
        "features = [\"amount\", \"fico\", \"dti\", \"state\", \"emp_length\"]\n",
        "\n",
        "# Calculate accuracy of the model for different sized data sets\n",
        "for i in range(100):\n",
        "\n",
        "    # Prepare the small dataset\n",
        "    lendingclub_small = lendingclub.iloc[lendingclub.index % 100 <= i]\n",
        "    X = lendingclub_small.loc[:, features]\n",
        "    X = pd.get_dummies(X)\n",
        "    y = lendingclub_small[\"outcome\"]\n",
        "\n",
        "    # Use scikit-learn to create train/test split and train the decision tree\n",
        "    X_train, X_test, y_train, y_test = train_test_split(X,y,test_size=0.20, random_state=123)\n",
        "    model = DecisionTreeClassifier(criterion=\"entropy\", min_impurity_decrease=0.0001, min_samples_split=20, random_state=123).fit(X_train, y_train)\n",
        "    train_pred = model.predict(X_train)\n",
        "    test_pred = model.predict(X_test)\n",
        "\n",
        "    # Caluclate accuracy\n",
        "    train_accuracy = 100*accuracy_score(y_train, train_pred)\n",
        "    test_accuracy = 100*accuracy_score(y_test, test_pred)\n",
        "\n",
        "    size.append(str(i+1) + '%')\n",
        "    train_accuracies.append(train_accuracy)\n",
        "    test_accuracies.append(test_accuracy)\n",
        "\n",
        "# Produce the result in a table\n",
        "accuracies_table['size'] = size\n",
        "accuracies_table['train_accuracy'] = train_accuracies\n",
        "accuracies_table['test_accuracy'] = test_accuracies\n",
        "accuracies_table"
      ],
      "execution_count": null,
      "outputs": [
        {
          "output_type": "execute_result",
          "data": {
            "text/html": [
              "<div>\n",
              "<style scoped>\n",
              "    .dataframe tbody tr th:only-of-type {\n",
              "        vertical-align: middle;\n",
              "    }\n",
              "\n",
              "    .dataframe tbody tr th {\n",
              "        vertical-align: top;\n",
              "    }\n",
              "\n",
              "    .dataframe thead th {\n",
              "        text-align: right;\n",
              "    }\n",
              "</style>\n",
              "<table border=\"1\" class=\"dataframe\">\n",
              "  <thead>\n",
              "    <tr style=\"text-align: right;\">\n",
              "      <th></th>\n",
              "      <th>size</th>\n",
              "      <th>train_accuracy</th>\n",
              "      <th>test_accuracy</th>\n",
              "    </tr>\n",
              "  </thead>\n",
              "  <tbody>\n",
              "    <tr>\n",
              "      <th>0</th>\n",
              "      <td>1%</td>\n",
              "      <td>95.377504</td>\n",
              "      <td>91.411043</td>\n",
              "    </tr>\n",
              "    <tr>\n",
              "      <th>1</th>\n",
              "      <td>2%</td>\n",
              "      <td>94.919169</td>\n",
              "      <td>87.384615</td>\n",
              "    </tr>\n",
              "    <tr>\n",
              "      <th>2</th>\n",
              "      <td>3%</td>\n",
              "      <td>96.560575</td>\n",
              "      <td>92.008197</td>\n",
              "    </tr>\n",
              "    <tr>\n",
              "      <th>3</th>\n",
              "      <td>4%</td>\n",
              "      <td>96.264921</td>\n",
              "      <td>91.692308</td>\n",
              "    </tr>\n",
              "    <tr>\n",
              "      <th>4</th>\n",
              "      <td>5%</td>\n",
              "      <td>96.241528</td>\n",
              "      <td>91.502463</td>\n",
              "    </tr>\n",
              "    <tr>\n",
              "      <th>...</th>\n",
              "      <td>...</td>\n",
              "      <td>...</td>\n",
              "      <td>...</td>\n",
              "    </tr>\n",
              "    <tr>\n",
              "      <th>95</th>\n",
              "      <td>96%</td>\n",
              "      <td>96.318654</td>\n",
              "      <td>95.960699</td>\n",
              "    </tr>\n",
              "    <tr>\n",
              "      <th>96</th>\n",
              "      <td>97%</td>\n",
              "      <td>96.130990</td>\n",
              "      <td>95.455701</td>\n",
              "    </tr>\n",
              "    <tr>\n",
              "      <th>97</th>\n",
              "      <td>98%</td>\n",
              "      <td>95.947094</td>\n",
              "      <td>95.646977</td>\n",
              "    </tr>\n",
              "    <tr>\n",
              "      <th>98</th>\n",
              "      <td>99%</td>\n",
              "      <td>96.257375</td>\n",
              "      <td>96.120555</td>\n",
              "    </tr>\n",
              "    <tr>\n",
              "      <th>99</th>\n",
              "      <td>100%</td>\n",
              "      <td>96.114485</td>\n",
              "      <td>95.912706</td>\n",
              "    </tr>\n",
              "  </tbody>\n",
              "</table>\n",
              "<p>100 rows × 3 columns</p>\n",
              "</div>"
            ],
            "text/plain": [
              "    size  train_accuracy  test_accuracy\n",
              "0     1%       95.377504      91.411043\n",
              "1     2%       94.919169      87.384615\n",
              "2     3%       96.560575      92.008197\n",
              "3     4%       96.264921      91.692308\n",
              "4     5%       96.241528      91.502463\n",
              "..   ...             ...            ...\n",
              "95   96%       96.318654      95.960699\n",
              "96   97%       96.130990      95.455701\n",
              "97   98%       95.947094      95.646977\n",
              "98   99%       96.257375      96.120555\n",
              "99  100%       96.114485      95.912706\n",
              "\n",
              "[100 rows x 3 columns]"
            ]
          },
          "metadata": {
            "tags": []
          },
          "execution_count": 20
        }
      ]
    },
    {
      "cell_type": "code",
      "metadata": {
        "id": "Bfm0RR-5Htfg",
        "colab_type": "code",
        "colab": {
          "base_uri": "https://localhost:8080/",
          "height": 282
        },
        "outputId": "b792c939-579f-4fa1-dc7e-b51b4352c170"
      },
      "source": [
        "# Plot the results\n",
        "ax = plt.gca()\n",
        "x_index = [x * (len(lendingclub)/100) for x in range(100)]\n",
        "ax.scatter(x_index, train_accuracies)\n",
        "ax.scatter(x_index, test_accuracies)\n",
        "plt.ylabelbest = 0\n",
        "plt.ylabel(\"Accuracy on Example Data\")\n",
        "plt.xlabel(\"Dataset Size\")\n",
        "plt.legend([\"Training Accuracy\", \"Testing Accuracy\"])\n",
        "plt.show()"
      ],
      "execution_count": null,
      "outputs": [
        {
          "output_type": "display_data",
          "data": {
            "image/png": "[encoded data removed]",
            "text/plain": [
              "<Figure size 432x288 with 1 Axes>"
            ]
          },
          "metadata": {
            "tags": []
          }
        }
      ]
    },
    {
      "cell_type": "markdown",
      "metadata": {
        "id": "fddhyGantaK-",
        "colab_type": "text"
      },
      "source": [
        "2.Subset of features included in the model:\n",
        "\n",
        "In this part I divided all features to three categories. Finanical features include fico (credit rating of the borrower), dti (ratio of the borrower’s total monthly debt payments), and emp_length (length of time that the borrower has been employed at their current job). Location features include state (U.S. state that the borrower resides in. Loan features include amount (amount requested for their first loan). Then I categorized these features into seven feature sets, including finanical features only, location features only, loan only, finanical and location features, finanical and loan features, location and loan features, and all features.\n",
        "\n",
        "I produced the results in a table. I considered putting them into a plot - but the x axis couldn't fit that many feature names. The result shows that the best feature sets are \"financial only\" feature and \"financial and location\" feature with 96.5% accuracy. The second best feature sets are \"financial and loan\" feature and \"all features\" feature with 95.9% accuracy. The worst feature set is \"location only\" dataset with 88.5% accuracy."
      ]
    },
    {
      "cell_type": "code",
      "metadata": {
        "id": "fNqLfeFNwxMW",
        "colab_type": "code",
        "colab": {
          "base_uri": "https://localhost:8080/",
          "height": 266
        },
        "outputId": "4f85cc95-a0b6-4b0b-eb5e-dfc92fb51612"
      },
      "source": [
        "# Create lists of possible features\n",
        "financial_features = [\"fico\", \"dti\", \"emp_length\"]\n",
        "location_features = [\"state\"]\n",
        "loan_features = [\"amount\"]\n",
        "\n",
        "feature_sets = {\n",
        "    \"financial only\": financial_features,\n",
        "    \"location only\": location_features,\n",
        "    \"loan only\": loan_features,\n",
        "    \"financial and location\": financial_features + location_features,\n",
        "    \"financial and loan\": financial_features + loan_features,\n",
        "    \"location and loan\": location_features + loan_features,\n",
        "    \"all features\": financial_features + location_features + loan_features\n",
        "}\n",
        "\n",
        "best = 0\n",
        "best_name = None\n",
        "feature_set_names = []\n",
        "feature_set_accuracies = []\n",
        "features_accuracies_table = pd.DataFrame()\n",
        "\n",
        "# Calculate accuracies of the model with different features\n",
        "for set_name, feature_set in feature_sets.items():\n",
        "\n",
        "    # Prepare the small dataset\n",
        "    X = lendingclub.loc[:, feature_set]\n",
        "    X = pd.get_dummies(X)\n",
        "    y = lendingclub[\"outcome\"]\n",
        "\n",
        "    # Use scikit-learn to create train/test split and train the decision tree\n",
        "    X_train, X_test, y_train, y_test = train_test_split(X,y,test_size=0.20, random_state=123)\n",
        "    model = DecisionTreeClassifier(criterion=\"entropy\", min_impurity_decrease=0.0001, min_samples_split=20, random_state=123).fit(X_train, y_train)\n",
        "    train_pred = model.predict(X_train)\n",
        "    test_pred = model.predict(X_test)\n",
        "\n",
        "    # Calcualte accuracy\n",
        "    accuracy = 100*accuracy_score(test_pred, y_test)\n",
        "    if accuracy >= best:\n",
        "        best = accuracy\n",
        "        best_name = set_name\n",
        "    \n",
        "    feature_set_names.append(set_name)\n",
        "    feature_set_accuracies.append(accuracy)\n",
        "\n",
        "# Produce results in a table\n",
        "features_accuracies_table['feature_set_names'] = feature_set_names\n",
        "features_accuracies_table['feature_set_accuracies'] = feature_set_accuracies\n",
        "features_accuracies_table = features_accuracies_table.sort_values(by=['feature_set_accuracies'], ascending = False).reset_index(drop = True)\n",
        "features_accuracies_table"
      ],
      "execution_count": null,
      "outputs": [
        {
          "output_type": "execute_result",
          "data": {
            "text/html": [
              "<div>\n",
              "<style scoped>\n",
              "    .dataframe tbody tr th:only-of-type {\n",
              "        vertical-align: middle;\n",
              "    }\n",
              "\n",
              "    .dataframe tbody tr th {\n",
              "        vertical-align: top;\n",
              "    }\n",
              "\n",
              "    .dataframe thead th {\n",
              "        text-align: right;\n",
              "    }\n",
              "</style>\n",
              "<table border=\"1\" class=\"dataframe\">\n",
              "  <thead>\n",
              "    <tr style=\"text-align: right;\">\n",
              "      <th></th>\n",
              "      <th>feature_set_names</th>\n",
              "      <th>feature_set_accuracies</th>\n",
              "    </tr>\n",
              "  </thead>\n",
              "  <tbody>\n",
              "    <tr>\n",
              "      <th>0</th>\n",
              "      <td>financial only</td>\n",
              "      <td>96.529191</td>\n",
              "    </tr>\n",
              "    <tr>\n",
              "      <th>1</th>\n",
              "      <td>financial and location</td>\n",
              "      <td>96.523026</td>\n",
              "    </tr>\n",
              "    <tr>\n",
              "      <th>2</th>\n",
              "      <td>financial and loan</td>\n",
              "      <td>95.931200</td>\n",
              "    </tr>\n",
              "    <tr>\n",
              "      <th>3</th>\n",
              "      <td>all features</td>\n",
              "      <td>95.912706</td>\n",
              "    </tr>\n",
              "    <tr>\n",
              "      <th>4</th>\n",
              "      <td>loan only</td>\n",
              "      <td>89.248505</td>\n",
              "    </tr>\n",
              "    <tr>\n",
              "      <th>5</th>\n",
              "      <td>location and loan</td>\n",
              "      <td>89.211516</td>\n",
              "    </tr>\n",
              "    <tr>\n",
              "      <th>6</th>\n",
              "      <td>location only</td>\n",
              "      <td>88.459404</td>\n",
              "    </tr>\n",
              "  </tbody>\n",
              "</table>\n",
              "</div>"
            ],
            "text/plain": [
              "        feature_set_names  feature_set_accuracies\n",
              "0          financial only               96.529191\n",
              "1  financial and location               96.523026\n",
              "2      financial and loan               95.931200\n",
              "3            all features               95.912706\n",
              "4               loan only               89.248505\n",
              "5       location and loan               89.211516\n",
              "6           location only               88.459404"
            ]
          },
          "metadata": {
            "tags": []
          },
          "execution_count": 22
        }
      ]
    },
    {
      "cell_type": "markdown",
      "metadata": {
        "id": "bwLTsCmJ1LYA",
        "colab_type": "text"
      },
      "source": [
        "3.Decision tree vs. logistic regression classification.\n",
        "\n",
        "In this part, I trained logistic regression classfication and calculated its accuracies based on different threshold. Due to the imbalance of dataset (there are a lot more \"reject\" than \"accept\" in the outcome), the threshold of the logistic regression is far above 0.5. I found that the higher the threshold, the more accurate the model is. According to my calculation, the model achieves the highest accuracy of 88.2 with a 0.098 threshold. It shows that the accuracy of the logistic regression model (88.2) is less than the accuracy of the original decision tree model (95.9)."
      ]
    },
    {
      "cell_type": "code",
      "metadata": {
        "id": "-p6BFSES1KyH",
        "colab_type": "code",
        "colab": {
          "base_uri": "https://localhost:8080/",
          "height": 170
        },
        "outputId": "9a2e5e8e-b8d7-4bfa-8b5b-a085cadadae3"
      },
      "source": [
        "# List the features from the data\n",
        "features = [\"amount\", \"fico\", \"dti\", \"state\", \"emp_length\"]\n",
        "\n",
        "# Prepare data\n",
        "X = lendingclub.loc[:, features]\n",
        "X = pd.get_dummies(X)\n",
        "y = lendingclub[\"outcome\"]\n",
        "X_train, X_test, y_train, y_test = train_test_split(X,y,test_size=0.20, random_state=123)\n",
        "\n",
        "# Train logistic regression model using scikit-learn\n",
        "model = LogisticRegression(penalty=\"elasticnet\", C=1, l1_ratio=0.5, solver=\"saga\", max_iter=5000, random_state=123)\n",
        "model.fit(X_train, y_train)\n",
        "\n",
        "# Get prediction probabilities on the test set\n",
        "predicts = model.predict_proba(X_test)\n",
        "all_probabilities = [x[1] for x in predicts]\n",
        "all_actuals = list(y_test)\n",
        "\n",
        "# Compute accuracies based on several different thresholds\n",
        "for threshold in np.arange(0.9, 0.99, 0.01):\n",
        "    all_predictions = []\n",
        "    for x in all_probabilities:\n",
        "      if x > threshold:\n",
        "        all_predictions.append('accept')\n",
        "      else:\n",
        "        all_predictions.append('reject')\n",
        "    accuracy = 100*accuracy_score(all_actuals, all_predictions)\n",
        "    print(f\"Accuracy: {accuracy:.1f} at threshold {threshold}\")"
      ],
      "execution_count": null,
      "outputs": [
        {
          "output_type": "stream",
          "text": [
            "Accuracy: 67.9 at threshold 0.9\n",
            "Accuracy: 71.1 at threshold 0.91\n",
            "Accuracy: 73.8 at threshold 0.92\n",
            "Accuracy: 77.4 at threshold 0.93\n",
            "Accuracy: 80.2 at threshold 0.9400000000000001\n",
            "Accuracy: 83.8 at threshold 0.9500000000000001\n",
            "Accuracy: 88.0 at threshold 0.9600000000000001\n",
            "Accuracy: 88.2 at threshold 0.9700000000000001\n",
            "Accuracy: 88.2 at threshold 0.9800000000000001\n"
          ],
          "name": "stdout"
        }
      ]
    },
    {
      "cell_type": "markdown",
      "metadata": {
        "id": "oShxL5GrEX6y",
        "colab_type": "text"
      },
      "source": [
        "4.Hyperparameter tuning for the best-performing model from option 3.\n",
        "\n",
        "The best-performing model from option 3 is decision tree. Therefore I'm tuning the hyperparameter for the decision tree classifier, including criterion, min_impurity_decrease, and min_samples_split. The number of folds for cross validation in the hyperparameter search is 5. The result shows that the best model has a 95.9% accuracy on the test set, which is the same as the original model."
      ]
    },
    {
      "cell_type": "code",
      "metadata": {
        "id": "cnqZ2l7VEYLo",
        "colab_type": "code",
        "colab": {
          "base_uri": "https://localhost:8080/",
          "height": 153
        },
        "outputId": "a536a2a6-d506-4815-ea00-4415848169d7"
      },
      "source": [
        "# Select features\n",
        "features = [\"amount\", \"fico\", \"dti\", \"state\", \"emp_length\"]\n",
        "\n",
        "# Prepare the data\n",
        "X = lendingclub.loc[:, features]\n",
        "X = pd.get_dummies(X)\n",
        "y = lendingclub[\"outcome\"]\n",
        "\n",
        "X_train, X_test, y_train, y_test = train_test_split(X,y,test_size=0.20, random_state=123)\n",
        "\n",
        "# Decide on the hyperparameters we would like to compare\n",
        "hyperparameters = {\n",
        "    \"criterion\":[\"gini\", \"entropy\"],\n",
        "    \"min_impurity_decrease\":[0, 0.0001, 0.001],\n",
        "    \"min_samples_split\":range(2, 20, 2)\n",
        "}\n",
        "\n",
        "# Decide on number of folds for cross validation in the hyerparameter search\n",
        "kfolds = 5\n",
        "\n",
        "# Initialize a search using cross validation in sklearn\n",
        "search = GridSearchCV(estimator=DecisionTreeClassifier(random_state=123),\n",
        "                            param_grid=hyperparameters, cv=kfolds, scoring=\"accuracy\")\n",
        "\n",
        "# Train a classifier with each combination of hyperparameters and take the best one and print out the results\n",
        "classifier = search.fit(X_train, y_train)\n",
        "accuracy = classifier.best_score_\n",
        "best_fit = classifier.best_estimator_\n",
        "print(f\"Best fit when training was {best_fit}\\nWith {100*accuracy:.1f}% accuracy.\")\n",
        "\n",
        "# Evaluate our best model's performance on the test set and print the results\n",
        "y_pred = classifier.predict(X_test)\n",
        "accuracy = 100*accuracy_score(y_test, y_pred)\n",
        "print(f\"Accuracy on held-out test set: {accuracy:.1f}%\")\n"
      ],
      "execution_count": null,
      "outputs": [
        {
          "output_type": "stream",
          "text": [
            "Best fit when training was DecisionTreeClassifier(ccp_alpha=0.0, class_weight=None, criterion='entropy',\n",
            "                       max_depth=None, max_features=None, max_leaf_nodes=None,\n",
            "                       min_impurity_decrease=0.0001, min_impurity_split=None,\n",
            "                       min_samples_leaf=1, min_samples_split=8,\n",
            "                       min_weight_fraction_leaf=0.0, presort='deprecated',\n",
            "                       random_state=123, splitter='best')\n",
            "With 95.4% accuracy.\n",
            "Accuracy on held-out test set: 95.9%\n"
          ],
          "name": "stdout"
        }
      ]
    },
    {
      "cell_type": "markdown",
      "metadata": {
        "id": "6QiQ4Th3Di_G",
        "colab_type": "text"
      },
      "source": [
        "5.Number of folds or stratification strategy for cross-validation.\n",
        "\n",
        "In this part, I calculated accuracies based on different number of folds for cross-validation and displayed the results in a table and a plot. The results show that the model accuracy is the highest with 0 fold and the lowest with 5 fold."
      ]
    },
    {
      "cell_type": "code",
      "metadata": {
        "id": "94eq_RJsI0gc",
        "colab_type": "code",
        "colab": {
          "base_uri": "https://localhost:8080/",
          "height": 359
        },
        "outputId": "627b9f7c-9407-4556-f0c6-6b2ce417d9bc"
      },
      "source": [
        "# List the features from the data\n",
        "features = [\"amount\", \"fico\", \"dti\", \"state\", \"emp_length\"]\n",
        "\n",
        "# Set up dataset and cross validation split\n",
        "X = lendingclub.loc[:, features]\n",
        "X = pd.get_dummies(X)\n",
        "y = lendingclub[\"outcome\"]\n",
        "\n",
        "num_folds = 10\n",
        "\n",
        "# Set up model\n",
        "classifier = DecisionTreeClassifier(criterion=\"entropy\", min_impurity_decrease=0.0001, min_samples_split=20, random_state=123).fit(X_train, y_train)\n",
        "\n",
        "accuracies = pd.DataFrame()\n",
        "fold = []\n",
        "train_accuracies = []\n",
        "test_accuracies = []\n",
        "\n",
        "# Calculate accuracies of the model based on different cross validation split\n",
        "for i in range(num_folds):\n",
        "    X_train = X.loc[X.index % num_folds != i]\n",
        "    X_test = X.loc[X.index % num_folds == i]\n",
        "    y_train = y.loc[y.index % num_folds != i]\n",
        "    y_test = y.loc[y.index % num_folds == i]\n",
        "    \n",
        "    model = classifier.fit(X_train, y_train)\n",
        "    train_pred = model.predict(X_train)\n",
        "    test_pred = model.predict(X_test)\n",
        "    train_accuracy = 100*accuracy_score(y_train, train_pred)\n",
        "    test_accuracy = 100*accuracy_score(y_test, test_pred)\n",
        "\n",
        "    fold.append(i)\n",
        "    train_accuracies.append(train_accuracy)\n",
        "    test_accuracies.append(test_accuracy)\n",
        "\n",
        "accuracies['fold'] = fold\n",
        "accuracies['train accuracies'] = train_accuracies\n",
        "accuracies['test accuracies'] = test_accuracies\n",
        "\n",
        "accuracies = accuracies.sort_values(by = 'test accuracies', ascending = False).reset_index(drop = True)\n",
        "accuracies"
      ],
      "execution_count": null,
      "outputs": [
        {
          "output_type": "execute_result",
          "data": {
            "text/html": [
              "<div>\n",
              "<style scoped>\n",
              "    .dataframe tbody tr th:only-of-type {\n",
              "        vertical-align: middle;\n",
              "    }\n",
              "\n",
              "    .dataframe tbody tr th {\n",
              "        vertical-align: top;\n",
              "    }\n",
              "\n",
              "    .dataframe thead th {\n",
              "        text-align: right;\n",
              "    }\n",
              "</style>\n",
              "<table border=\"1\" class=\"dataframe\">\n",
              "  <thead>\n",
              "    <tr style=\"text-align: right;\">\n",
              "      <th></th>\n",
              "      <th>fold</th>\n",
              "      <th>train accuracies</th>\n",
              "      <th>test accuracies</th>\n",
              "    </tr>\n",
              "  </thead>\n",
              "  <tbody>\n",
              "    <tr>\n",
              "      <th>0</th>\n",
              "      <td>0</td>\n",
              "      <td>96.303705</td>\n",
              "      <td>96.498582</td>\n",
              "    </tr>\n",
              "    <tr>\n",
              "      <th>1</th>\n",
              "      <td>2</td>\n",
              "      <td>96.188623</td>\n",
              "      <td>96.202688</td>\n",
              "    </tr>\n",
              "    <tr>\n",
              "      <th>2</th>\n",
              "      <td>9</td>\n",
              "      <td>96.187306</td>\n",
              "      <td>96.128237</td>\n",
              "    </tr>\n",
              "    <tr>\n",
              "      <th>3</th>\n",
              "      <td>8</td>\n",
              "      <td>96.168126</td>\n",
              "      <td>96.115906</td>\n",
              "    </tr>\n",
              "    <tr>\n",
              "      <th>4</th>\n",
              "      <td>7</td>\n",
              "      <td>96.214706</td>\n",
              "      <td>96.029593</td>\n",
              "    </tr>\n",
              "    <tr>\n",
              "      <th>5</th>\n",
              "      <td>6</td>\n",
              "      <td>95.874947</td>\n",
              "      <td>95.869297</td>\n",
              "    </tr>\n",
              "    <tr>\n",
              "      <th>6</th>\n",
              "      <td>1</td>\n",
              "      <td>96.173553</td>\n",
              "      <td>95.795833</td>\n",
              "    </tr>\n",
              "    <tr>\n",
              "      <th>7</th>\n",
              "      <td>3</td>\n",
              "      <td>96.092776</td>\n",
              "      <td>95.733662</td>\n",
              "    </tr>\n",
              "    <tr>\n",
              "      <th>8</th>\n",
              "      <td>4</td>\n",
              "      <td>95.973587</td>\n",
              "      <td>95.610358</td>\n",
              "    </tr>\n",
              "    <tr>\n",
              "      <th>9</th>\n",
              "      <td>5</td>\n",
              "      <td>95.970847</td>\n",
              "      <td>95.548705</td>\n",
              "    </tr>\n",
              "  </tbody>\n",
              "</table>\n",
              "</div>"
            ],
            "text/plain": [
              "   fold  train accuracies  test accuracies\n",
              "0     0         96.303705        96.498582\n",
              "1     2         96.188623        96.202688\n",
              "2     9         96.187306        96.128237\n",
              "3     8         96.168126        96.115906\n",
              "4     7         96.214706        96.029593\n",
              "5     6         95.874947        95.869297\n",
              "6     1         96.173553        95.795833\n",
              "7     3         96.092776        95.733662\n",
              "8     4         95.973587        95.610358\n",
              "9     5         95.970847        95.548705"
            ]
          },
          "metadata": {
            "tags": []
          },
          "execution_count": 13
        }
      ]
    },
    {
      "cell_type": "code",
      "metadata": {
        "id": "o-B3yyXQRPRc",
        "colab_type": "code",
        "colab": {
          "base_uri": "https://localhost:8080/",
          "height": 295
        },
        "outputId": "7e3556ce-5cbf-4604-a4b7-ec1646ff59f8"
      },
      "source": [
        "# Plot the relation between test accuracy and cross validation split\n",
        "plt.title('Test Set Accuracy vs. cross-validation')\n",
        "plt.plot(range(num_folds), test_accuracies)\n",
        "plt.xlabel(\"fold\")\n",
        "plt.ylabel(\"Test set accuracy\")\n",
        "plt.show()"
      ],
      "execution_count": null,
      "outputs": [
        {
          "output_type": "display_data",
          "data": {
            "image/png": "[encoded data removed]",
            "text/plain": [
              "<Figure size 432x288 with 1 Axes>"
            ]
          },
          "metadata": {
            "tags": []
          }
        }
      ]
    },
    {
      "cell_type": "markdown",
      "metadata": {
        "id": "1Q4pI3iKwxC6",
        "colab_type": "text"
      },
      "source": [
        "My ranking from the greatest impact to the least impact on model performace is:\n",
        "\n",
        "1. Amount of data available for training.\n",
        "2. Decision tree vs. logistic regression classification.\n",
        "3. Subset of features included in the model.\n",
        "4. Number of folds or stratification strategy for cross-validation.\n",
        "5. Hyperparameter tuning for the best-performing model from option 3.\n",
        "\n",
        "I made this ranking based on how much differences in accuracy score the change has created. The change in the amount of data created the largest drop in accuracy score from 95.9 to 87.38 when the size of the data becomes really small.\n",
        "\n",
        "Logistic regression ranks the second because its best model only has a 88.2 accuracy score. Its non-best models are even more inaccurate compared to the decision tree model. Therefore logistic regression has a huge impact on the accuracy score second only to the size of data. \n",
        "\n",
        "Features ranks the third because the feature set with the worst performance only achieved an accuracy score of 88.46, which is higher than the accuracy scores after the first two changes but is also very significant. Number of folds for cross-validation ranks the fourth because its model with the worst performance still has a 95.55 accuracy score, which is not much different with the original model (95.9). Finally, hyperparameter tuning for the decision tree model ranks the last because it has the same accuracy score as the original model."
      ]
    },
    {
      "cell_type": "markdown",
      "metadata": {
        "id": "yOOkWEaIdEWu",
        "colab_type": "text"
      },
      "source": [
        "# Question 3\n",
        "\n",
        "Report the best-performing model and the total set of choices that you made in the options above to get to that level of performance. Compare that model performance to the result you reported in Homework 1. \n",
        "\n",
        "   - Describe one hypothetical business context for LendingClub where the amount of improvement reported in Question 3 would be worth the extra time and effort needed for optimization.\n",
        "   - Describe one hypothetical business context where the improvement would **not** have been worth the extra time and effort."
      ]
    },
    {
      "cell_type": "markdown",
      "metadata": {
        "id": "g91kwQihBon2",
        "colab_type": "text"
      },
      "source": [
        "The best model is achieved using only the financial features (\"fico\", \"dti\", \"emp_length\") while the number of fold is 0.\n",
        "\n",
        "The accuracy score of the best model is 96.77."
      ]
    },
    {
      "cell_type": "code",
      "metadata": {
        "id": "BiUR22p6A4Bq",
        "colab_type": "code",
        "colab": {
          "base_uri": "https://localhost:8080/",
          "height": 359
        },
        "outputId": "17cb362f-4f47-47d8-bee3-6cb4e89b6def"
      },
      "source": [
        "# List the features from the data\n",
        "features = [\"fico\", \"dti\", \"emp_length\"]\n",
        "\n",
        "# Set up dataset and cross validation split\n",
        "X = lendingclub.loc[:, features]\n",
        "X = pd.get_dummies(X)\n",
        "y = lendingclub[\"outcome\"]\n",
        "\n",
        "num_folds = 10\n",
        "\n",
        "# Set up model\n",
        "classifier = DecisionTreeClassifier(criterion=\"entropy\", min_impurity_decrease=0.0001, min_samples_split=20, random_state=123).fit(X_train, y_train)\n",
        "\n",
        "accuracies = pd.DataFrame()\n",
        "fold = []\n",
        "train_accuracies = []\n",
        "test_accuracies = []\n",
        "\n",
        "# Calculate accuracies of the model based on different cross validation split\n",
        "for i in range(num_folds):\n",
        "    X_train = X.loc[X.index % num_folds != i]\n",
        "    X_test = X.loc[X.index % num_folds == i]\n",
        "    y_train = y.loc[y.index % num_folds != i]\n",
        "    y_test = y.loc[y.index % num_folds == i]\n",
        "    \n",
        "    model = classifier.fit(X_train, y_train)\n",
        "    train_pred = model.predict(X_train)\n",
        "    test_pred = model.predict(X_test)\n",
        "    train_accuracy = 100*accuracy_score(y_train, train_pred)\n",
        "    test_accuracy = 100*accuracy_score(y_test, test_pred)\n",
        "\n",
        "    fold.append(i)\n",
        "    train_accuracies.append(train_accuracy)\n",
        "    test_accuracies.append(test_accuracy)\n",
        "\n",
        "accuracies['fold'] = fold\n",
        "accuracies['train accuracies'] = train_accuracies\n",
        "accuracies['test accuracies'] = test_accuracies\n",
        "\n",
        "accuracies = accuracies.sort_values(by = 'test accuracies', ascending = False).reset_index(drop = True)\n",
        "accuracies"
      ],
      "execution_count": null,
      "outputs": [
        {
          "output_type": "execute_result",
          "data": {
            "text/html": [
              "<div>\n",
              "<style scoped>\n",
              "    .dataframe tbody tr th:only-of-type {\n",
              "        vertical-align: middle;\n",
              "    }\n",
              "\n",
              "    .dataframe tbody tr th {\n",
              "        vertical-align: top;\n",
              "    }\n",
              "\n",
              "    .dataframe thead th {\n",
              "        text-align: right;\n",
              "    }\n",
              "</style>\n",
              "<table border=\"1\" class=\"dataframe\">\n",
              "  <thead>\n",
              "    <tr style=\"text-align: right;\">\n",
              "      <th></th>\n",
              "      <th>fold</th>\n",
              "      <th>train accuracies</th>\n",
              "      <th>test accuracies</th>\n",
              "    </tr>\n",
              "  </thead>\n",
              "  <tbody>\n",
              "    <tr>\n",
              "      <th>0</th>\n",
              "      <td>0</td>\n",
              "      <td>96.524277</td>\n",
              "      <td>96.769819</td>\n",
              "    </tr>\n",
              "    <tr>\n",
              "      <th>1</th>\n",
              "      <td>8</td>\n",
              "      <td>96.507884</td>\n",
              "      <td>96.609125</td>\n",
              "    </tr>\n",
              "    <tr>\n",
              "      <th>2</th>\n",
              "      <td>9</td>\n",
              "      <td>96.499664</td>\n",
              "      <td>96.510481</td>\n",
              "    </tr>\n",
              "    <tr>\n",
              "      <th>3</th>\n",
              "      <td>1</td>\n",
              "      <td>96.574967</td>\n",
              "      <td>96.473924</td>\n",
              "    </tr>\n",
              "    <tr>\n",
              "      <th>4</th>\n",
              "      <td>5</td>\n",
              "      <td>96.672284</td>\n",
              "      <td>96.473490</td>\n",
              "    </tr>\n",
              "    <tr>\n",
              "      <th>5</th>\n",
              "      <td>7</td>\n",
              "      <td>96.533914</td>\n",
              "      <td>96.411837</td>\n",
              "    </tr>\n",
              "    <tr>\n",
              "      <th>6</th>\n",
              "      <td>3</td>\n",
              "      <td>96.521584</td>\n",
              "      <td>96.362515</td>\n",
              "    </tr>\n",
              "    <tr>\n",
              "      <th>7</th>\n",
              "      <td>2</td>\n",
              "      <td>96.509206</td>\n",
              "      <td>96.350635</td>\n",
              "    </tr>\n",
              "    <tr>\n",
              "      <th>8</th>\n",
              "      <td>6</td>\n",
              "      <td>96.325675</td>\n",
              "      <td>96.325524</td>\n",
              "    </tr>\n",
              "    <tr>\n",
              "      <th>9</th>\n",
              "      <td>4</td>\n",
              "      <td>96.555834</td>\n",
              "      <td>96.202219</td>\n",
              "    </tr>\n",
              "  </tbody>\n",
              "</table>\n",
              "</div>"
            ],
            "text/plain": [
              "   fold  train accuracies  test accuracies\n",
              "0     0         96.524277        96.769819\n",
              "1     8         96.507884        96.609125\n",
              "2     9         96.499664        96.510481\n",
              "3     1         96.574967        96.473924\n",
              "4     5         96.672284        96.473490\n",
              "5     7         96.533914        96.411837\n",
              "6     3         96.521584        96.362515\n",
              "7     2         96.509206        96.350635\n",
              "8     6         96.325675        96.325524\n",
              "9     4         96.555834        96.202219"
            ]
          },
          "metadata": {
            "tags": []
          },
          "execution_count": 15
        }
      ]
    },
    {
      "cell_type": "markdown",
      "metadata": {
        "id": "f_mII26edISl",
        "colab_type": "text"
      },
      "source": [
        "The accuracy score of the best model (96.77%) improved slightly compared to the original model (95.9%).\n",
        "\n",
        "The optimization is worth it when the costs of wrong prediction is very high. For example, the company could use the model to decide whether to provide service to a loan borrower. If the company is still at the startup stage, where every customer is very valuable and losing one customer could bring a huge loss to the company, then it is necessary for the company to improve the accuracy of the model, even just slightly. \n",
        "\n",
        "The optimization is not worth the time and effort when the costs of wrong prediction is relatively low. For example, if the company is already a large-scale developed company and it has a lot of customers, losing one customer due to wrong prediction will not cause much damage to the company. In this case, a lot of efforts made for a slight improvement in the accuracy of the model is not that necessary."
      ]
    },
    {
      "cell_type": "markdown",
      "metadata": {
        "id": "K-nzeiXvm05T",
        "colab_type": "text"
      },
      "source": [
        "# Extra Credit\n",
        "\n",
        "For up to 2 points of extra credit, complete all three of the analyses in Question 1.\n",
        "\n",
        "For up to 4 points of extra credit, complete all five of the analyses in Question 2."
      ]
    },
    {
      "cell_type": "markdown",
      "metadata": {
        "id": "_2upx-ygRKE-",
        "colab_type": "text"
      },
      "source": [
        "# Scoring Rubric\n",
        "![](https://drive.google.com/uc?export=view&id=1dLF4RcciHT_giZEXWio1D0hwK73tKYjK)\n",
        "\n",
        "![](https://drive.google.com/uc?export=view&id=1nYN7X847FeHtE-0LVpqhQk8iq2YEWx2d)"
      ]
    }
  ]
}